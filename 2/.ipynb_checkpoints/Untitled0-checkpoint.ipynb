{
 "metadata": {
  "name": "",
  "signature": "sha256:f1f16aec1f8b0a12904e9e0ccdaca00720a4762e362099b748084690bcf7f9ad"
 },
 "nbformat": 3,
 "nbformat_minor": 0,
 "worksheets": []
}