{
 "metadata": {
  "name": "",
  "signature": "sha256:b068604f6b615538cde16a76b990d2c4f52d77a2e4b262f8c9d6352a0457b3fc"
 },
 "nbformat": 3,
 "nbformat_minor": 0,
 "worksheets": [
  {
   "cells": [
    {
     "cell_type": "heading",
     "level": 1,
     "metadata": {},
     "source": [
      "By Ourself or By God?"
     ]
    },
    {
     "cell_type": "code",
     "collapsed": false,
     "input": [
      "from IPython.display import HTML\n",
      "import numpy as np"
     ],
     "language": "python",
     "metadata": {},
     "outputs": [],
     "prompt_number": 2
    },
    {
     "cell_type": "markdown",
     "metadata": {},
     "source": [
      "## Lucky Six Rolling out Box\n",
      "\n",
      "The buyer will win the prize for certain lottery if the selected 6 numbers match up at least 3 numbers of sequence of 6 numbers out of 1-48 numbers.\n",
      "\n",
      "What is the probability of John's winning if a) the same 6 numbers are selcted at this time b) the numbers are selected by random?   \n",
      "\n"
     ]
    },
    {
     "cell_type": "markdown",
     "metadata": {},
     "source": [
      "## Basics in this example\n",
      "\n",
      "a) Create sequences of ordered consecutive numbers\n",
      "\n",
      "b) shuflle array (**numpy.random.shuffle()**)\n",
      "\n",
      "c) Check the numbers (**numpy.intersect1d(x,y)**)\n",
      "\n",
      "d) Discuss"
     ]
    },
    {
     "cell_type": "code",
     "collapsed": false,
     "input": [
      "x=np.linspace(1,48,48)\n",
      "np.random.shuffle(x)\n",
      "x"
     ],
     "language": "python",
     "metadata": {},
     "outputs": [
      {
       "metadata": {},
       "output_type": "pyout",
       "prompt_number": 1,
       "text": [
        "array([  8.,   3.,  33.,  37.,  21.,  31.,  40.,  35.,  14.,  13.,  16.,\n",
        "        30.,   1.,  23.,   6.,  22.,   2.,  27.,  10.,  38.,   9.,  17.,\n",
        "        47.,  42.,  26.,  48.,  29.,  36.,  43.,  20.,  44.,  46.,  39.,\n",
        "        41.,   7.,  12.,  19.,  34.,  25.,  24.,  15.,  45.,  28.,   5.,\n",
        "        32.,  11.,  18.,   4.])"
       ]
      }
     ],
     "prompt_number": 1
    },
    {
     "cell_type": "code",
     "collapsed": false,
     "input": [
      "sort(x[:6])"
     ],
     "language": "python",
     "metadata": {},
     "outputs": [
      {
       "metadata": {},
       "output_type": "pyout",
       "prompt_number": 3,
       "text": [
        "array([  3.,   8.,  21.,  31.,  33.,  37.])"
       ]
      }
     ],
     "prompt_number": 3
    },
    {
     "cell_type": "markdown",
     "metadata": {},
     "source": [
      "Check whether wins the prize"
     ]
    },
    {
     "cell_type": "code",
     "collapsed": false,
     "input": [
      "y=np.array([1,2,3,4,5,6])\n",
      "c=np.intersect1d(x[:6],y)\n",
      "c"
     ],
     "language": "python",
     "metadata": {},
     "outputs": [
      {
       "metadata": {},
       "output_type": "pyout",
       "prompt_number": 4,
       "text": [
        "array([ 3.])"
       ]
      }
     ],
     "prompt_number": 4
    },
    {
     "cell_type": "code",
     "collapsed": false,
     "input": [
      "size(c)"
     ],
     "language": "python",
     "metadata": {},
     "outputs": [
      {
       "metadata": {},
       "output_type": "pyout",
       "prompt_number": 5,
       "text": [
        "1"
       ]
      }
     ],
     "prompt_number": 5
    },
    {
     "cell_type": "markdown",
     "metadata": {},
     "source": [
      "Define the function for Lucky Six generated"
     ]
    },
    {
     "cell_type": "code",
     "collapsed": false,
     "input": [
      "def num6(n):\n",
      "    x=np.linspace(1,n,n)\n",
      "    np.random.shuffle(x)\n",
      "    return x[:6]"
     ],
     "language": "python",
     "metadata": {},
     "outputs": [],
     "prompt_number": 6
    },
    {
     "cell_type": "code",
     "collapsed": false,
     "input": [
      "a=num6(48)\n",
      "a"
     ],
     "language": "python",
     "metadata": {},
     "outputs": [
      {
       "metadata": {},
       "output_type": "pyout",
       "prompt_number": 7,
       "text": [
        "array([  7.,  28.,  24.,  16.,  30.,  31.])"
       ]
      }
     ],
     "prompt_number": 7
    },
    {
     "cell_type": "markdown",
     "metadata": {},
     "source": [
      "Whether win the price? "
     ]
    },
    {
     "cell_type": "code",
     "collapsed": false,
     "input": [
      "def lott(a,b):\n",
      "    return size(np.intersect1d(a,b))"
     ],
     "language": "python",
     "metadata": {},
     "outputs": [],
     "prompt_number": 8
    },
    {
     "cell_type": "code",
     "collapsed": false,
     "input": [
      "lott(a,y)"
     ],
     "language": "python",
     "metadata": {},
     "outputs": [
      {
       "metadata": {},
       "output_type": "pyout",
       "prompt_number": 9,
       "text": [
        "0"
       ]
      }
     ],
     "prompt_number": 9
    },
    {
     "cell_type": "code",
     "collapsed": false,
     "input": [
      "luckyNum=np.array([2,3,12,13,22,23])"
     ],
     "language": "python",
     "metadata": {},
     "outputs": [],
     "prompt_number": 10
    },
    {
     "cell_type": "markdown",
     "metadata": {},
     "source": [
      "Record all the historic data "
     ]
    },
    {
     "cell_type": "code",
     "collapsed": false,
     "input": [
      "Got=np.zeros(10)\n",
      "God=np.zeros(10)\n",
      "Got"
     ],
     "language": "python",
     "metadata": {},
     "outputs": [
      {
       "metadata": {},
       "output_type": "pyout",
       "prompt_number": 12,
       "text": [
        "array([ 0.,  0.,  0.,  0.,  0.,  0.,  0.,  0.,  0.,  0.])"
       ]
      }
     ],
     "prompt_number": 12
    },
    {
     "cell_type": "code",
     "collapsed": false,
     "input": [
      "for i in arange(10):\n",
      "    x=num6(48)\n",
      "    y=num6(48)\n",
      "    Got[i]=lott(x,luckyNum)\n",
      "    God[i]=lott(y,x)"
     ],
     "language": "python",
     "metadata": {},
     "outputs": [],
     "prompt_number": 13
    },
    {
     "cell_type": "code",
     "collapsed": false,
     "input": [
      "Got,God"
     ],
     "language": "python",
     "metadata": {},
     "outputs": [
      {
       "metadata": {},
       "output_type": "pyout",
       "prompt_number": 14,
       "text": [
        "(array([ 1.,  1.,  1.,  1.,  0.,  1.,  0.,  1.,  0.,  2.]),\n",
        " array([ 1.,  0.,  0.,  0.,  1.,  1.,  2.,  1.,  1.,  1.]))"
       ]
      }
     ],
     "prompt_number": 14
    },
    {
     "cell_type": "code",
     "collapsed": false,
     "input": [
      "[Got==1]"
     ],
     "language": "python",
     "metadata": {},
     "outputs": [
      {
       "metadata": {},
       "output_type": "pyout",
       "prompt_number": 15,
       "text": [
        "[array([ True,  True,  True,  True, False,  True, False,  True, False, False], dtype=bool)]"
       ]
      }
     ],
     "prompt_number": 15
    },
    {
     "cell_type": "code",
     "collapsed": false,
     "input": [
      "Got[Got==1]"
     ],
     "language": "python",
     "metadata": {},
     "outputs": [
      {
       "metadata": {},
       "output_type": "pyout",
       "prompt_number": 16,
       "text": [
        "array([ 1.,  1.,  1.,  1.,  1.,  1.])"
       ]
      }
     ],
     "prompt_number": 16
    },
    {
     "cell_type": "code",
     "collapsed": false,
     "input": [
      "size(Got[Got==1])"
     ],
     "language": "python",
     "metadata": {},
     "outputs": [
      {
       "metadata": {},
       "output_type": "pyout",
       "prompt_number": 17,
       "text": [
        "6"
       ]
      }
     ],
     "prompt_number": 17
    },
    {
     "cell_type": "code",
     "collapsed": false,
     "input": [
      "[Got>2]"
     ],
     "language": "python",
     "metadata": {},
     "outputs": [
      {
       "metadata": {},
       "output_type": "pyout",
       "prompt_number": 18,
       "text": [
        "[array([False, False, False, False, False, False, False, False, False, False], dtype=bool)]"
       ]
      }
     ],
     "prompt_number": 18
    },
    {
     "cell_type": "markdown",
     "metadata": {},
     "source": [
      "## Question:\n",
      "\n",
      "What is the probability that buyer wins the prize?"
     ]
    },
    {
     "cell_type": "code",
     "collapsed": false,
     "input": [
      "input_form = \"\"\"\n",
      "<div style=\"background-color:gainsboro; border:solid black; width:300px; padding:20px;\">\n",
      "Number of times for lottery: <input type=\"text\" id=\"num_var\" value=\"number\"><br>\n",
      "<button onclick=\"set_value()\">Set Value</button>\n",
      "</div>\n",
      "\"\"\"\n",
      "javascript = \"\"\"\n",
      "<script type=\"text/Javascript\">\n",
      "    function set_value(){\n",
      "        var num = document.getElementById('num_var').value;\n",
      "        var command = num  + \" = '\" + num + \"'\" ;\n",
      "        console.log(\"Executing Command: \" + command);\n",
      "        \n",
      "        var kernel = IPython.notebook.kernel;\n",
      "        kernel.execute(command);\n",
      "    }\n",
      "</script>\n",
      "\"\"\"\n",
      "\n",
      "\n",
      "HTML(input_form+javascript)"
     ],
     "language": "python",
     "metadata": {},
     "outputs": [
      {
       "html": [
        "\n",
        "<div style=\"background-color:gainsboro; border:solid black; width:300px; padding:20px;\">\n",
        "Number of times for lottery: <input type=\"text\" id=\"num_var\" value=\"number\"><br>\n",
        "<button onclick=\"set_value()\">Set Value</button>\n",
        "</div>\n",
        "\n",
        "<script type=\"text/Javascript\">\n",
        "    function set_value(){\n",
        "        var num = document.getElementById('num_var').value;\n",
        "        var command = num  + \" = '\" + num + \"'\" ;\n",
        "        console.log(\"Executing Command: \" + command);\n",
        "        \n",
        "        var kernel = IPython.notebook.kernel;\n",
        "        kernel.execute(command);\n",
        "    }\n",
        "</script>\n"
       ],
       "metadata": {},
       "output_type": "pyout",
       "prompt_number": 38,
       "text": [
        "<IPython.core.display.HTML object>"
       ]
      }
     ],
     "prompt_number": 38
    },
    {
     "cell_type": "code",
     "collapsed": false,
     "input": [
      "print(number)"
     ],
     "language": "python",
     "metadata": {},
     "outputs": [
      {
       "output_type": "stream",
       "stream": "stdout",
       "text": [
        "<type 'numpy.number'>\n"
       ]
      }
     ],
     "prompt_number": 39
    },
    {
     "cell_type": "code",
     "collapsed": false,
     "input": [
      "input_form = \"\"\"\n",
      "<div style=\"background-color:gainsboro; border:solid black; width:300px; padding:20px;\">\n",
      "Variable Name: <input type=\"text\" id=\"var_name\" value=\"foo\"><br>\n",
      "Variable Value: <input type=\"text\" id=\"var_value\" value=\"bar\"><br>\n",
      "<button onclick=\"set_value()\">Set Value</button>\n",
      "</div>\n",
      "\"\"\"\n",
      "\n",
      "javascript = \"\"\"\n",
      "<script type=\"text/Javascript\">\n",
      "    function set_value(){\n",
      "        var var_name = document.getElementById('var_name').value;\n",
      "        var var_value = document.getElementById('var_value').value;\n",
      "        var command = var_name + \" = '\" + var_value + \"'\";\n",
      "        console.log(\"Executing Command: \" + command);\n",
      "        \n",
      "        var kernel = IPython.notebook.kernel;\n",
      "        kernel.execute(command);\n",
      "    }\n",
      "</script>\n",
      "\"\"\"\n",
      "\n",
      "HTML(input_form + javascript)"
     ],
     "language": "python",
     "metadata": {},
     "outputs": [
      {
       "html": [
        "\n",
        "<div style=\"background-color:gainsboro; border:solid black; width:300px; padding:20px;\">\n",
        "Variable Name: <input type=\"text\" id=\"var_name\" value=\"foo\"><br>\n",
        "Variable Value: <input type=\"text\" id=\"var_value\" value=\"bar\"><br>\n",
        "<button onclick=\"set_value()\">Set Value</button>\n",
        "</div>\n",
        "\n",
        "<script type=\"text/Javascript\">\n",
        "    function set_value(){\n",
        "        var var_name = document.getElementById('var_name').value;\n",
        "        var var_value = document.getElementById('var_value').value;\n",
        "        var command = var_name + \" = '\" + var_value + \"'\";\n",
        "        console.log(\"Executing Command: \" + command);\n",
        "        \n",
        "        var kernel = IPython.notebook.kernel;\n",
        "        kernel.execute(command);\n",
        "    }\n",
        "</script>\n"
       ],
       "metadata": {},
       "output_type": "pyout",
       "prompt_number": 34,
       "text": [
        "<IPython.core.display.HTML object>"
       ]
      }
     ],
     "prompt_number": 34
    },
    {
     "cell_type": "code",
     "collapsed": false,
     "input": [
      "print foo"
     ],
     "language": "python",
     "metadata": {},
     "outputs": [
      {
       "output_type": "stream",
       "stream": "stdout",
       "text": [
        "bar\n"
       ]
      }
     ],
     "prompt_number": 35
    },
    {
     "cell_type": "code",
     "collapsed": false,
     "input": [],
     "language": "python",
     "metadata": {},
     "outputs": []
    }
   ],
   "metadata": {}
  }
 ]
}