{
 "metadata": {
  "name": "",
  "signature": "sha256:7fcc426fce4b200914678cc86a5e87fbcfbab8b3bd53c340fdb97df774432bab"
 },
 "nbformat": 3,
 "nbformat_minor": 0,
 "worksheets": [
  {
   "cells": [
    {
     "cell_type": "heading",
     "level": 1,
     "metadata": {},
     "source": [
      "Truth Behind the Scenes"
     ]
    },
    {
     "cell_type": "markdown",
     "metadata": {},
     "source": [
      "## Index\n",
      "\n",
      "[Python Modules Requirement]\n",
      " \n",
      "* Python - 2.7.x, 3.4.x\n",
      "* SciPy/NumPy\n",
      "* Matplotlib, [scitools]\n",
      "* IPython (2.+], ipywidgets, JSAnimation, ipy_table\n",
      "* ...\n",
      "\n",
      "[Topics]\n",
      "- [Basics of Python](8/2014-2-8.ipynb)\n",
      "- [Discrete Dynamics](2013-2-math-1.ipynb)\n",
      "- [Topology: Dimensions, Chaos, Fractals](2013-2-math-2.ipynb)\n",
      "- [Sequences: Basic of Numerics, Sound, and Images](3/2013-2-3.ipynb)\n",
      "- [Animation: Pursuit Curves, Blind men and Elephant, and Storage of Radioative Waste](4/2013-2-4.ipynb)\n",
      "- [Fly Fly to the Sky: Phugoid](5/2013-2-5.ipynb)\n",
      "- [Magic](5/magic.ipynb)\n",
      "- [Probability](6/2013-2-6.ipynb)\n",
      "- [Estime $\\pi$ by Buffon Needle Model](6/Buffons_Needle_Sim.ipynb)\n",
      "- [Spiral and Spots](6/reactiondiff-2.ipynb)\n",
      "- [Markov Chain: From Money Ball... ](7/2013-2-7.ipynb)\n",
      "- [Lottery](8/lottery.ipynb)\n",
      "- [Schodinger Wall](9/widget.ipynb)\n",
      "- [Trajectory of Whale swimming](10/Analyzing whale tracks.ipynb)\n",
      "- [FIFA the Soccer](11/soccer.ipynb)\n",
      "- [Schodinger Wall](12/widget.ipynb)"
     ]
    },
    {
     "cell_type": "code",
     "collapsed": false,
     "input": [
      "from IPython.core.display import HTML\n",
      "def css_styling():\n",
      "    styles = open(\"styles/custom.css\", \"r\").read()\n",
      "    return HTML(styles)\n",
      "css_styling()"
     ],
     "language": "python",
     "metadata": {},
     "outputs": [
      {
       "html": [
        "\n",
        " <style type=\"text/css\">\n",
        "  @-webkit-keyframes spinner {\n",
        "      from { -webkit-transform: rotateY(0deg); }\n",
        "      to   { -webkit-transform: rotateY(-360deg); }\n",
        "  }\n",
        "  @keyframes spinner {\n",
        "      from {\n",
        "            -moz-transform: rotateY(0deg);\n",
        "            -ms-transform: rotateY(0deg);\n",
        "            transform: rotateY(0deg);\n",
        "     }\n",
        "     to {\n",
        "         -moz-transform: rotateY(-360deg);\n",
        "         -ms-transform: rotateY(-360deg);\n",
        "         transform: rotateY(-360deg);\n",
        "     }\n",
        "  }\n",
        "  .stage{\n",
        "       margin:1em auto;\n",
        "      -webkit-perspective:1200px;\n",
        "      -moz-perspective:1200px;\n",
        "      -ms-perspective:1200px;perspective:1200px\n",
        "  }\n",
        "  .spinner{\n",
        "      -webkit-animation-name:spinner;\n",
        "      -webkit-animation-timing-function:linear;\n",
        "      -webkit-animation-iteration-count:infinite;\n",
        "      -webkit-animation-duration:6s;\n",
        "      -webkit-transform-style:preserve-3d;\n",
        "      animation-name:spinner;\n",
        "      animation-timing-function:linear;\n",
        "      animation-iteration-count:infinite;\n",
        "      animation-duration:6s;\n",
        "      transform-style:preserve-3d\n",
        "  }\n",
        "  .spinner:hover{\n",
        "     -webkit-animation-play-state:paused;\n",
        "     animation-play-state:paused\n",
        "  }.spinner img,.spinner5 img{\n",
        "     position:absolute;\n",
        "     border:1px solid #ccc;\n",
        "     background:rgba(255,255,255,.8);\n",
        "     box-shadow:inset 0 0 20px rgba(0,0,0,.2)\n",
        "  }\n",
        "  </style>\n",
        "  <style type=\"text/css\">\n",
        "    @-webkit-keyframes spinner5 {\n",
        "       from,15% { -webkit-transform: rotateY(0);       }\n",
        "       20%,35%  { -webkit-transform: rotateY(-72deg);  }\n",
        "       40%,55%  { -webkit-transform: rotateY(-144deg); }\n",
        "       60%,75%  { -webkit-transform: rotateY(-216deg); }\n",
        "       80%,95%  { -webkit-transform: rotateY(-288deg); }\n",
        "       to       { -webkit-transform: rotateY(-360deg); }\n",
        "    }\n",
        "    @keyframes spinner5 {\n",
        "       from,15% {\n",
        "          -moz-transform: rotateY(0);\n",
        "          -ms-transform: rotateY(0);\n",
        "          transform: rotateY(0);\n",
        "       }\n",
        "       20%,35%  {\n",
        "         -moz-transform: rotateY(-72deg);\n",
        "         -ms-transform: rotateY(-72deg);\n",
        "         transform: rotateY(-72deg);\n",
        "       }\n",
        "       40%,55%  {\n",
        "         -moz-transform: rotateY(-144deg);\n",
        "         -ms-transform: rotateY(-144deg);\n",
        "         transform: rotateY(-144deg);\n",
        "       }\n",
        "       60%,75%  {\n",
        "          -moz-transform: rotateY(-216deg);\n",
        "          -ms-transform: rotateY(-216deg);\n",
        "          transform: rotateY(-216deg);\n",
        "       }\n",
        "       80%,95%  {\n",
        "          -moz-transform: rotateY(-288deg);\n",
        "          -ms-transform: rotateY(-288deg);\n",
        "          transform: rotateY(-288deg);\n",
        "       }\n",
        "       to {\n",
        "         -moz-transform: rotateY(-360deg);\n",
        "         -ms-transform: rotateY(-360deg);\n",
        "          transform: rotateY(-360deg);\n",
        "       }\n",
        "   }\n",
        "   .spinner5{\n",
        "       -webkit-animation-name:spinner5;\n",
        "       -webkit-animation-timing-function:ease-out;\n",
        "       -webkit-animation-iteration-count:infinite;\n",
        "       -webkit-animation-duration:20s;\n",
        "       animation-name:spinner5;\n",
        "       animation-timing-function:ease-out;\n",
        "       animation-iteration-count:infinite;\n",
        "       animation-duration:20s;\n",
        "       -webkit-transform-style:preserve-3d;\n",
        "       -moz-transform-style:preserve-3d;\n",
        "       -ms-transform-style:preserve-3d;\n",
        "       transform-style:preserve-3d}\n",
        "  </style>\n"
       ],
       "metadata": {},
       "output_type": "pyout",
       "prompt_number": 1,
       "text": [
        "<IPython.core.display.HTML at 0x1068a7110>"
       ]
      }
     ],
     "prompt_number": 1
    },
    {
     "cell_type": "code",
     "collapsed": false,
     "input": [
      "# <!-- collapse=False -->\n",
      "HtmlCode=\"\"\"\n",
      "<div class=\"stage\" style=\"width: 240px; height: 160px;\">\n",
      "<div class=\"spinner\">\n",
      "<img style=\"-webkit-transform: rotateY(0deg) translateZ(165px); -moz-transform: rotateY(0deg) translateZ(165px); -ms-transform: rotateY(0deg) translateZ(165px); padding: 0px 20px;\" src=\"imgs/ms.gif\" alt=\"\" height=\"200px\" width=\"200px\">\n",
      "<img style=\"-webkit-transform: rotateY(72deg) translateZ(165px); -moz-transform: rotateY(72deg) translateZ(165px); -ms-transform: rotateY(72deg) translateZ(165px); padding: 0px 13.5px;\" src=\"imgs/fft.gif\" alt=\"\" height=\"200px\" width=\"200px\">\n",
      "<img style=\"-webkit-transform: rotateY(144deg) translateZ(165px); -moz-transform: rotateY(144deg) translateZ(165px); -ms-transform: rotateY(144deg) translateZ(165px); padding: 0px 0px;\" src=\"imgs/elephant.gif\" alt=\"\" height=\"200px\" width=\"200px\">\n",
      "<img style=\"-webkit-transform: rotateY(216deg) translateZ(165px); -moz-transform: rotateY(216deg) translateZ(165px); -ms-transform: rotateY(216deg) translateZ(165px); padding: 0px 13.5px;\" src=\"imgs/traj.png\" alt=\"\" height=\"200px\" width=\"200px\">\n",
      "<img style=\"-webkit-transform: rotateY(288deg) translateZ(165px); -moz-transform: rotateY(288deg) translateZ(165px); -ms-transform: rotateY(288deg) translateZ(165px); padding: 0px 1px;\" src=\"imgs/Monalisa.png\" alt=\"\" height=\"300px\" width=\"200px\">\n",
      "</div>\n",
      "</div>\n",
      "<p>\n",
      "<p>\n",
      "<p>\n",
      "\"\"\"\n",
      "HTML(HtmlCode)"
     ],
     "language": "python",
     "metadata": {},
     "outputs": [
      {
       "html": [
        "\n",
        "<div class=\"stage\" style=\"width: 240px; height: 160px;\">\n",
        "<div class=\"spinner\">\n",
        "<img style=\"-webkit-transform: rotateY(0deg) translateZ(165px); -moz-transform: rotateY(0deg) translateZ(165px); -ms-transform: rotateY(0deg) translateZ(165px); padding: 0px 20px;\" src=\"imgs/ms.gif\" alt=\"\" height=\"200px\" width=\"200px\">\n",
        "<img style=\"-webkit-transform: rotateY(72deg) translateZ(165px); -moz-transform: rotateY(72deg) translateZ(165px); -ms-transform: rotateY(72deg) translateZ(165px); padding: 0px 13.5px;\" src=\"imgs/fft.gif\" alt=\"\" height=\"200px\" width=\"200px\">\n",
        "<img style=\"-webkit-transform: rotateY(144deg) translateZ(165px); -moz-transform: rotateY(144deg) translateZ(165px); -ms-transform: rotateY(144deg) translateZ(165px); padding: 0px 0px;\" src=\"imgs/elephant.gif\" alt=\"\" height=\"200px\" width=\"200px\">\n",
        "<img style=\"-webkit-transform: rotateY(216deg) translateZ(165px); -moz-transform: rotateY(216deg) translateZ(165px); -ms-transform: rotateY(216deg) translateZ(165px); padding: 0px 13.5px;\" src=\"imgs/traj.png\" alt=\"\" height=\"200px\" width=\"200px\">\n",
        "<img style=\"-webkit-transform: rotateY(288deg) translateZ(165px); -moz-transform: rotateY(288deg) translateZ(165px); -ms-transform: rotateY(288deg) translateZ(165px); padding: 0px 1px;\" src=\"imgs/Monalisa.png\" alt=\"\" height=\"300px\" width=\"200px\">\n",
        "</div>\n",
        "</div>\n",
        "<p>\n",
        "<p>\n",
        "<p>\n"
       ],
       "metadata": {},
       "output_type": "pyout",
       "prompt_number": 9,
       "text": [
        "<IPython.core.display.HTML object>"
       ]
      }
     ],
     "prompt_number": 9
    },
    {
     "cell_type": "markdown",
     "metadata": {},
     "source": [
      "\n",
      "<p>\n",
      "\n",
      "\n",
      "\n",
      "\n",
      "\n"
     ]
    },
    {
     "cell_type": "code",
     "collapsed": false,
     "input": [
      "\n",
      "\n",
      "\n",
      "\n",
      "\n",
      "\n",
      "\n",
      "\n",
      "\n",
      "\n",
      "\n",
      "\n",
      "\n"
     ],
     "language": "python",
     "metadata": {},
     "outputs": [],
     "prompt_number": 15
    },
    {
     "cell_type": "code",
     "collapsed": false,
     "input": [],
     "language": "python",
     "metadata": {},
     "outputs": []
    },
    {
     "cell_type": "heading",
     "level": 2,
     "metadata": {},
     "source": [
      "Git Tutorial"
     ]
    },
    {
     "cell_type": "code",
     "collapsed": false,
     "input": [
      "import sha\n",
      "\n",
      "# Our first commit\n",
      "data1 = 'Math 2014 - Lecture 1 '\n",
      "meta1 = 'date: 8/1/14'\n",
      "hash1 = sha.sha(data1 + meta1).hexdigest()\n",
      "print 'Hash:', hash1"
     ],
     "language": "python",
     "metadata": {},
     "outputs": [
      {
       "output_type": "stream",
       "stream": "stdout",
       "text": [
        "Hash: 5af60e11e3856fad759c830257ece50c115b708a\n"
       ]
      }
     ],
     "prompt_number": 2
    },
    {
     "cell_type": "code",
     "collapsed": false,
     "input": [
      "%%bash\n",
      "git config --global user.name \"Chu-ching Huang\"\n",
      "git config --global user.email \"cchuang2009@gmail.com\""
     ],
     "language": "python",
     "metadata": {},
     "outputs": [],
     "prompt_number": 3
    },
    {
     "cell_type": "code",
     "collapsed": false,
     "input": [
      "%%bash\n",
      "rm -rf lecture\n",
      "git init lecture"
     ],
     "language": "python",
     "metadata": {},
     "outputs": [
      {
       "output_type": "stream",
       "stream": "stdout",
       "text": [
        "Initialized empty Git repository in /Users/cch/Desktop/IPythonNotebook/math-2014/lecture/.git/\n"
       ]
      }
     ],
     "prompt_number": 4
    },
    {
     "cell_type": "code",
     "collapsed": false,
     "input": [
      "%%bash\n",
      "cd lecture\n",
      "\n",
      "ls -la"
     ],
     "language": "python",
     "metadata": {},
     "outputs": [
      {
       "output_type": "stream",
       "stream": "stdout",
       "text": [
        "total 0\n",
        "drwxr-xr-x   3 cch  staff  102  7 29 08:57 .\n",
        "drwxr-xr-x  24 cch  staff  816  7 29 08:57 ..\n",
        "drwxr-xr-x  10 cch  staff  340  7 29 08:57 .git\n"
       ]
      }
     ],
     "prompt_number": 5
    },
    {
     "cell_type": "code",
     "collapsed": false,
     "input": [
      "%%bash\n",
      "cd lecture\n",
      "\n",
      "echo \"Lecture2014 for Math\" > file1.txt"
     ],
     "language": "python",
     "metadata": {},
     "outputs": [],
     "prompt_number": 6
    },
    {
     "cell_type": "code",
     "collapsed": false,
     "input": [
      "%%bash\n",
      "cd lecture\n",
      "\n",
      "git status"
     ],
     "language": "python",
     "metadata": {},
     "outputs": [
      {
       "output_type": "stream",
       "stream": "stdout",
       "text": [
        "# On branch master\n",
        "#\n",
        "# Initial commit\n",
        "#\n",
        "# Untracked files:\n",
        "#   (use \"git add <file>...\" to include in what will be committed)\n",
        "#\n",
        "#\tfile1.txt\n",
        "nothing added to commit but untracked files present (use \"git add\" to track)\n"
       ]
      }
     ],
     "prompt_number": 7
    },
    {
     "cell_type": "code",
     "collapsed": false,
     "input": [
      "%%bash\n",
      "cd lecture\n",
      "\n",
      "git commit -a -m\"This is our first commit\""
     ],
     "language": "python",
     "metadata": {},
     "outputs": [
      {
       "output_type": "stream",
       "stream": "stdout",
       "text": [
        "# On branch master\n",
        "#\n",
        "# Initial commit\n",
        "#\n",
        "# Untracked files:\n",
        "#   (use \"git add <file>...\" to include in what will be committed)\n",
        "#\n",
        "#\tfile1.txt\n",
        "nothing added to commit but untracked files present (use \"git add\" to track)\n"
       ]
      }
     ],
     "prompt_number": 8
    },
    {
     "cell_type": "code",
     "collapsed": false,
     "input": [
      "%%bash\n",
      "\n",
      "cp -rp 1 lecture/"
     ],
     "language": "python",
     "metadata": {},
     "outputs": [],
     "prompt_number": 11
    },
    {
     "cell_type": "code",
     "collapsed": false,
     "input": [
      "%%bash\n",
      "\n",
      "ls -l lecture\n"
     ],
     "language": "python",
     "metadata": {},
     "outputs": [
      {
       "output_type": "stream",
       "stream": "stdout",
       "text": [
        "total 8224\n",
        "-rw-r--r--  1 cch  staff  2755924  7 28 14:22 2013-2-math-1.ipynb\n",
        "-rwxrwxrwx  1 cch  staff  1452732  2 15 13:01 2014-2-1.ipynb\n",
        "drwxrwxrwx  7 cch  staff      238  7 28 14:22 images\n"
       ]
      }
     ],
     "prompt_number": 10
    },
    {
     "cell_type": "code",
     "collapsed": false,
     "input": [],
     "language": "python",
     "metadata": {},
     "outputs": []
    }
   ],
   "metadata": {}
  }
 ]
}