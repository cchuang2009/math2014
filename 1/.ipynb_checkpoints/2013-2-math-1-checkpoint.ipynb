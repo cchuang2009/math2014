{
 "metadata": {
  "celltoolbar": "Slideshow",
  "name": "",
  "signature": "sha256:9f744f7c5d5b7172da6ce9e0a3108c619555078849562563108c2904f7596011"
 },
 "nbformat": 3,
 "nbformat_minor": 0,
 "worksheets": [
  {
   "cells": [
    {
     "cell_type": "markdown",
     "metadata": {},
     "source": [
      "<img src=\"images/galois.png\" width=\"20%\">\n",
      "\n",
      "\u00c9variste Galois (1811 \u2013 1832) was a French mathematician born in Bourg-la-Reine. His work laid the foundations for **Galois theory** and **group theory**, and the subfield of Galois connections. He was the first to use the word \"group\" as a technical term in mathematics to represent a group of permutations. A radical Republican during the monarchy of Louis Philippe in France, he died from wounds suffered in a duel under questionable circumstances at the age of twenty."
     ]
    },
    {
     "cell_type": "markdown",
     "metadata": {
      "slideshow": {
       "slide_type": "slide"
      }
     },
     "source": [
      "<h1>Discrete Dynamics</h1>\n",
      "\n",
      "Continuously Mapping Step by Step."
     ]
    },
    {
     "cell_type": "markdown",
     "metadata": {
      "slideshow": {
       "slide_type": "subslide"
      }
     },
     "source": [
      "<h3>Preliminary</h3>\n",
      "\n",
      "**Tools to Extend Thought**\n",
      "How to take the image of idea we got? Python should be the best solution. It owns\n",
      "<ul>\n",
      "<li> easy-to-use syntax;\n",
      "<li> powerful computing capacity;\n",
      "<li> handy library making graph with UI control  \n",
      "</ul>"
     ]
    },
    {
     "cell_type": "markdown",
     "metadata": {
      "slideshow": {
       "slide_type": "subslide"
      }
     },
     "source": [
      "<h3>Installation</h3>\n",
      "\n",
      "<ul>\n",
      "<li> Python -2.7.6: http://python.org\n",
      "<li> scipy/numpy: http://www.scipy.org\n",
      "<li> matplotlib: http://matplotlib.sf.net \n",
      "<li> IPython: http://ipython.org\n",
      "</ul>\n",
      "\n",
      "Or use our live system, pre-installed on USB pendriver, and startup everywhere and anytime.\n",
      "\n",
      "**Practice Exercise**\n",
      "Make your own Python Environment"
     ]
    },
    {
     "cell_type": "code",
     "collapsed": false,
     "input": [],
     "language": "python",
     "metadata": {},
     "outputs": []
    },
    {
     "cell_type": "markdown",
     "metadata": {
      "slideshow": {
       "slide_type": "slide"
      }
     },
     "source": [
      "<h2>Example:</h2>\n",
      "\n",
      "**How to find the value of $\\sqrt2$ only by additions, multiplication and divisions over integers?**\n",
      "\n",
      "Such kind of operations over integers can not change the fact that the ring of integers is closed."
     ]
    },
    {
     "cell_type": "markdown",
     "metadata": {
      "slideshow": {
       "slide_type": "subslide"
      }
     },
     "source": [
      "Define a sequence as follows:\n",
      "$$\n",
      "a_0 = 1,\\\\\n",
      "a_{n + 1} = \\frac{1}{2} \\left( a_n +\n",
      "   \\frac{2}{a_n} \\right), \\text{ if } n \\neq 0 \n",
      "$$   \n"
     ]
    },
    {
     "cell_type": "code",
     "collapsed": false,
     "input": [
      "a=1.\n",
      "for i in arange(1,10):\n",
      "    a=(a+2/a)/2.\n",
      "    print(a)"
     ],
     "language": "python",
     "metadata": {},
     "outputs": [
      {
       "output_type": "stream",
       "stream": "stdout",
       "text": [
        "1.5\n",
        "1.4166666666666665\n",
        "1.4142156862745097\n",
        "1.4142135623746899\n",
        "1.414213562373095\n",
        "1.414213562373095\n",
        "1.414213562373095\n",
        "1.414213562373095\n",
        "1.414213562373095\n"
       ]
      }
     ],
     "prompt_number": 1
    },
    {
     "cell_type": "markdown",
     "metadata": {
      "slideshow": {
       "slide_type": "subslide"
      }
     },
     "source": [
      "**Conclusion**\n",
      "    Suppose that ${a_n}$ is convergent and is equal to $x$. Then\n",
      "    $$ x=\\lim_{n\\to\\infty}a_n \\\\x=(x+2/x)/2\\to x=\\sqrt2$$"
     ]
    },
    {
     "cell_type": "markdown",
     "metadata": {
      "slideshow": {
       "slide_type": "subslide"
      }
     },
     "source": [
      "**Exercise**\n",
      "    Is it still convergent if the initial condition is changed, for instance, $a_0=999$? Confirm your answer."
     ]
    },
    {
     "cell_type": "markdown",
     "metadata": {
      "slideshow": {
       "slide_type": "subslide"
      }
     },
     "source": [
      "Suppose that a sequence, $\\left\\{ a_n \\right\\}^{\\infty}_{n = 0}$,  satisfies the following recursive formula:\n",
      "$$ a_{n + 1} = f \\left( a_n \\right) $$\n",
      "for some function $f \\left( x \\right)$ and $n = 1, 2,, 3, \\cdots$. Every element in the sequence can be represented in the form of composed function $f^n$ as following:\n",
      "\n",
      "$$ \\begin{eqnarray*} a_n & = & f \\left( a_{n - 1} \\right)\\\\ & = & f \\left( f \\left( a_{n - 2} \\right) \\right) = f^2 \\left( a_{n - 2} \\right)\\\\ & = & \\cdots\\\\ & = & f^n \\left( a_0 \\right) \\end{eqnarray*} $$"
     ]
    },
    {
     "cell_type": "markdown",
     "metadata": {
      "slideshow": {
       "slide_type": "subslide"
      }
     },
     "source": [
      "**Definition:**  The first term $a_0$ in $\\left\\{ a_n \\right\\}^{\\infty}_{n = 0}$, with $a_{n\n",
      "  + 1} = f \\left( a_n \\right)$, is called periodic point with cycle of period\n",
      "  ${\\color{red} m }$ if there exists $m \\in N$ such that\n",
      "  $$ a_m=f \\left( a_{m-1} \\right) =f^2(a_{m-2})=\\cdots=f^{m-1}(a_1)=f^m(a_0)= a_0. $$\n",
      "  $a_0$ is called fixed point if $f \\left( a_0 \\right) = a_0$.\n",
      "\n"
     ]
    },
    {
     "cell_type": "markdown",
     "metadata": {
      "slideshow": {
       "slide_type": "slide"
      }
     },
     "source": [
      "<h2>Example:</h2>\n",
      "\n",
      "Suppose that $f \\left( x \\right) = 2 / x$, $x \\neq 0$.\n",
      "\n",
      "Define a sequence, $\\left\\{ a_n \\right\\}^{\\infty}_{n = 0}$ as  follows:\n",
      "$$\n",
      "a_n = \\left\\{ \\begin{array}{ll}\n",
      "         a & \\text{if } n = 0,\\\\\n",
      "         f \\left( a_{n - 1} \\right) & \\text{if } n \\neq 0.\n",
      "       \\end{array} \\right. \n",
      "$$       \n",
      "    Since $f \\left( a \\right) = 2 / a$ and $f \\left( 2 / a \\right) = a$ the sequence is also listed as follows:     \n",
      "$$    \n",
      "    \\left\\{ {\\color{red} a}, 2 / a, {\\color{red} a}, 2 / a, \\cdots \\right\\}\n",
      "$$\n",
      "    Note that $f^{{\\color{red} 2}} \\left( x \\right) = f \\left( f \\left(x\\right) \\right) = x$; Then there is point with period 2."
     ]
    },
    {
     "cell_type": "markdown",
     "metadata": {
      "slideshow": {
       "slide_type": "subslide"
      }
     },
     "source": [
      "Suppose that the sequence is convergent, its limit can be found out by followings:\n",
      "$$\n",
      "\\begin{eqnarray*}\n",
      "  L & = & \\lim_{n \\rightarrow \\infty} f^n \\left( x \\right)\\\\\n",
      "  & = & \\lim_{n \\rightarrow \\infty} f^{n + 1} \\left( x \\right) = f \\left(\n",
      "  \\lim_{n \\rightarrow \\infty} f^n \\left( x \\right) \\right)\\\\\n",
      "  & = & f \\left( L \\right) = 2 / L\\\\\n",
      "  & \\Rightarrow & L^2 = 2\\\\\n",
      "  & \\Rightarrow & L = \\pm \\sqrt{2}\n",
      "\\end{eqnarray*}\n",
      "$$\n",
      "i.e. limit is $\\pm \\sqrt{2}$ depend on the sign of initial value, $a$."
     ]
    },
    {
     "cell_type": "markdown",
     "metadata": {
      "slideshow": {
       "slide_type": "subslide"
      }
     },
     "source": [
      "\n",
      "Now consider the image:\n",
      "$$\n",
      "    f:R \\to R\n",
      "$$ \n",
      "where $R$ is the set of all the real numbers.\n",
      "<p>\n",
      "<ol>\n",
      "<div class=\"alert\" style=\"margin: 10px\"> <li> $x=0$: the limit of $a_n$ fails to exist since $2/0$ fails to exist.</div>\n",
      "<li> $x=a\\neq0 \\text{ or }\\pm\\sqrt2$: \n",
      "$$   \n",
      "\\begin{eqnarray*}\n",
      "        a_0 &=& x, \\\\\n",
      "        a_1 &=& f(a_0)=f(x)=2/x\\neq x, \\\\   \n",
      "        a_2 &=& f(a_1)=f(2/x)=x,  \\\\\n",
      "            &\\cdots& \\\\\n",
      "\\end{eqnarray*}    \n",
      "$$\n",
      "<li> $x=\\pm\\sqrt2$: $a_1=2/{\\pm \\sqrt2}=\\pm{\\sqrt2}, a_2=2/a_1=\\pm\\sqrt2,\\cdots$\n",
      "</ol>\n",
      "\n",
      "**Conclusion:**\n",
      "Only at $x=\\pm\\sqrt2$, the sequence is convergent."
     ]
    },
    {
     "cell_type": "markdown",
     "metadata": {
      "slideshow": {
       "slide_type": "slide"
      }
     },
     "source": [
      "<h2>Example</h2>\n",
      "\n",
      "Consider the following function:\n",
      "\n",
      "$$ h \\left( x \\right) = 2 - \\left| x - 1 \\right| $$\n",
      "\n",
      " It is trivial that\n",
      "  $$ \n",
      "    h \\left( x \\right) = \\left\\{ \\begin{array}{ll}\n",
      "       3 - x, & \\text{if } x > 1 ;\\\\\n",
      "       1 + x, & \\text{if } x \\leq 1.\n",
      "     \\end{array} \\right. \n",
      "  $$   "
     ]
    },
    {
     "cell_type": "markdown",
     "metadata": {},
     "source": [
      "It is trvial that the graph of $h(x), x\\in \\mathbb R$, is union of two half-lines.\n",
      "\n",
      "<b>Question</b>: What about the picture of $h^2(x)$ or more higher order composition of $h(x)$, $h^3(x),h^4(x),\\cdots$? Computer would do much help to such kind complicated problems. *Matplotlib* and *SymPy* are used here to describe the geometrical properties."
     ]
    },
    {
     "cell_type": "code",
     "collapsed": false,
     "input": [
      "%pylab inline\n",
      "\n",
      "rcParams['figure.figsize'] = (10,3) #wide graphs by default\n",
      "\n",
      "import numpy as np\n",
      "import time\n",
      "from IPython.display import clear_output\n",
      "import matplotlib.pylab as plt"
     ],
     "language": "python",
     "metadata": {},
     "outputs": [
      {
       "output_type": "stream",
       "stream": "stdout",
       "text": [
        "Populating the interactive namespace from numpy and matplotlib\n"
       ]
      }
     ],
     "prompt_number": 2
    },
    {
     "cell_type": "code",
     "collapsed": false,
     "input": [
      "def h(x):\n",
      "    return 2-abs(x-1)"
     ],
     "language": "python",
     "metadata": {
      "slideshow": {
       "slide_type": "-"
      }
     },
     "outputs": [],
     "prompt_number": 3
    },
    {
     "cell_type": "code",
     "collapsed": false,
     "input": [
      "f, ax = plt.subplots()\n",
      "ax.set_xlim([-4,6])\n",
      "ax.set_ylim([0,3])\n",
      "\n",
      "x=np.linspace(-4,6,400)\n",
      "y=x\n",
      "for i in arange(5):\n",
      "    plot(x,y)\n",
      "    y=h(y)\n",
      "    \n",
      "    time.sleep(3)\n",
      "    clear_output()\n",
      "    display(f)\n",
      "plt.close()    "
     ],
     "language": "python",
     "metadata": {},
     "outputs": [
      {
       "metadata": {},
       "output_type": "display_data",
       "png": "[encoded data removed]",
       "text": [
        "<matplotlib.figure.Figure at 0x7fdb0913b150>"
       ]
      }
     ],
     "prompt_number": 4
    },
    {
     "cell_type": "markdown",
     "metadata": {
      "slideshow": {
       "slide_type": "subslide"
      }
     },
     "source": [
      "The graphs about ${h^0(x)=x,h^1(x),h^2(x),\\cdots}$ are as follows:\n",
      "<p>\n",
      "<img src=\"images/abs.png\">"
     ]
    },
    {
     "cell_type": "markdown",
     "metadata": {
      "slideshow": {
       "slide_type": "subslide"
      }
     },
     "source": [
      "\n",
      "\n",
      "From last picture, it is trivial that\n",
      "\n",
      "\n",
      "$$h(x)=h^3(x) \\text{ for } x\\in [0,2].$$\n",
      "\n",
      "However, only two points in this interval also satisfy $h(x)=h^2(x)$: one in [0,1] and the other in [1,2]. The following calculation shows that $x=1/2$ is the point which satisfies \n",
      "\n",
      "$$h(x)=h^2(x) \\text{ and } h(x)=h^2(x)=h^3(x)=\\cdots$$\n"
     ]
    },
    {
     "cell_type": "code",
     "collapsed": false,
     "input": [],
     "language": "python",
     "metadata": {},
     "outputs": []
    },
    {
     "cell_type": "markdown",
     "metadata": {
      "slideshow": {
       "slide_type": "slide"
      }
     },
     "source": [
      "<h2> Example</h2>\n",
      "\n",
      "Find the periodic point(s) with period 2 for the sequence:\n",
      "$$ a_{n + 1} = 4 a_n \\left( 1 - a_n \\right) $$\n",
      "i.e. \n",
      "$$f(x)=4x(1-x)\\\\\n",
      "  a_{n+2}=f(a_{n+1})=f^2(a_n)=a_n\\neq a_{n+1}\\\\\n",
      "$$\n",
      "\n",
      "\n",
      "\n",
      "\n",
      "\n",
      "From the following Maxima calulation, it shows that $a = 3 / 4 $ and 0 are fixed points. Only $-\n",
      "\\frac{\\sqrt{5} - 5}{8}$ and $\\frac{\\sqrt{5} + 5}{8}$ are points with cycle of\n",
      "period 2."
     ]
    },
    {
     "cell_type": "code",
     "collapsed": false,
     "input": [
      "def pf(x):\n",
      "    return 4*x*(1-x)"
     ],
     "language": "python",
     "metadata": {
      "slideshow": {
       "slide_type": "subslide"
      }
     },
     "outputs": [],
     "prompt_number": 27
    },
    {
     "cell_type": "code",
     "collapsed": false,
     "input": [
      "t=np.linspace(-4,4,400)\n",
      "plt.ylim([-2,2])\n",
      "xn=pf(t)\n",
      "plt.plot(t,yn,t,xn,t,pf(xn),t,pf(pf(xn)),t,t)"
     ],
     "language": "python",
     "metadata": {
      "slideshow": {
       "slide_type": "subslide"
      }
     },
     "outputs": [
      {
       "metadata": {},
       "output_type": "pyout",
       "prompt_number": 34,
       "text": [
        "[<matplotlib.lines.Line2D at 0x7ff1895a7990>,\n",
        " <matplotlib.lines.Line2D at 0x7ff189563710>,\n",
        " <matplotlib.lines.Line2D at 0x7ff1895e2f50>,\n",
        " <matplotlib.lines.Line2D at 0x7ff1895e2c90>,\n",
        " <matplotlib.lines.Line2D at 0x7ff1894a6990>]"
       ]
      },
      {
       "metadata": {},
       "output_type": "display_data",
       "png": "[encoded data removed]",
       "text": [
        "<matplotlib.figure.Figure at 0x7ff1894aa050>"
       ]
      }
     ],
     "prompt_number": 34
    },
    {
     "cell_type": "code",
     "collapsed": false,
     "input": [
      "from sympy import *\n",
      "x=Symbol('x')\n",
      "solve(4*x*(1-x)-x,x)"
     ],
     "language": "python",
     "metadata": {
      "slideshow": {
       "slide_type": "subslide"
      }
     },
     "outputs": [
      {
       "metadata": {},
       "output_type": "pyout",
       "prompt_number": 35,
       "text": [
        "[0, 3/4]"
       ]
      }
     ],
     "prompt_number": 35
    },
    {
     "cell_type": "markdown",
     "metadata": {
      "slideshow": {
       "slide_type": "subslide"
      }
     },
     "source": [
      "It shows that $a=3/4$ and $0$ are fixed points, $f(x)=x$, since\n",
      "\n",
      "$$\n",
      "f(0)=4\\cdot0\\cdot(1-0)=0 \\text{ and } f(3/4)=4\\cdot\\frac{3}{4}\\cdot\\left(1-\\frac{3}{4}\\right)=\\frac{3}{4}\n",
      "$$\n"
     ]
    },
    {
     "cell_type": "code",
     "collapsed": false,
     "input": [
      "y=4*x*(1-x)\n",
      "solve(4*y*(1-y)-x,x)"
     ],
     "language": "python",
     "metadata": {
      "slideshow": {
       "slide_type": "subslide"
      }
     },
     "outputs": [
      {
       "metadata": {},
       "output_type": "pyout",
       "prompt_number": 37,
       "text": [
        "[0, 3/4, -sqrt(5)/8 + 5/8, sqrt(5)/8 + 5/8]"
       ]
      }
     ],
     "prompt_number": 37
    },
    {
     "cell_type": "markdown",
     "metadata": {
      "slideshow": {
       "slide_type": "subslide"
      }
     },
     "source": [
      "\n",
      "Only $5\\pm5\\sqrt8$ are points with cycle of period 2, $f^2(a_n)=a_n\\neq f(a_n)$, since\n",
      "\n",
      "$$\n",
      "f\\left(\\frac{5\\pm\\sqrt{5}}{8}\\right)=4*\\left(\\frac{5\\pm\\sqrt{5}}{8}\\right)*\\left(1-\\frac{5\\pm\\sqrt{5}}{8}\\right)=\\frac{5\\mp\\sqrt{5}}{8}\\\\\n",
      "f^2\\left(\\frac{5\\pm\\sqrt{5}}{8}\\right)= f\\left(\\frac{5\\mp\\sqrt{5}}{8}\\right) =\\left(\\frac{5\\pm\\sqrt{5}}{8}\\right)\n",
      "$$"
     ]
    },
    {
     "cell_type": "code",
     "collapsed": false,
     "input": [
      "y=4*x*(1-x)\n",
      "y2=4*y*(1-y)\n",
      "solve(4*y2*(1-y2)-x,x)"
     ],
     "language": "python",
     "metadata": {
      "slideshow": {
       "slide_type": "subslide"
      }
     },
     "outputs": [
      {
       "metadata": {},
       "output_type": "pyout",
       "prompt_number": 39,
       "text": [
        "[0,\n",
        " 3/4,\n",
        " 1/2 - 1/(16*(-1/2 - sqrt(3)*I/2)*(-1/128 + sqrt(3)*I/128)**(1/3)) - (-1/2 - sqrt(3)*I/2)*(-1/128 + sqrt(3)*I/128)**(1/3),\n",
        " 1/2 - (-1/2 + sqrt(3)*I/2)*(-1/128 + sqrt(3)*I/128)**(1/3) - 1/(16*(-1/2 + sqrt(3)*I/2)*(-1/128 + sqrt(3)*I/128)**(1/3)),\n",
        " 1/2 - (-1/128 + sqrt(3)*I/128)**(1/3) - 1/(16*(-1/128 + sqrt(3)*I/128)**(1/3)),\n",
        " 7/12 - 7/(144*(-1/2 - sqrt(3)*I/2)*(7/3456 + 7*sqrt(3)*I/1152)**(1/3)) - (-1/2 - sqrt(3)*I/2)*(7/3456 + 7*sqrt(3)*I/1152)**(1/3),\n",
        " 7/12 - (-1/2 + sqrt(3)*I/2)*(7/3456 + 7*sqrt(3)*I/1152)**(1/3) - 7/(144*(-1/2 + sqrt(3)*I/2)*(7/3456 + 7*sqrt(3)*I/1152)**(1/3)),\n",
        " 7/12 - (7/3456 + 7*sqrt(3)*I/1152)**(1/3) - 7/(144*(7/3456 + 7*sqrt(3)*I/1152)**(1/3))]"
       ]
      }
     ],
     "prompt_number": 39
    },
    {
     "cell_type": "markdown",
     "metadata": {},
     "source": [
      "**Galois Theory:** There is no algebraic formulation for real zero(s) root of polynomials with degrees more than 4."
     ]
    },
    {
     "cell_type": "code",
     "collapsed": false,
     "input": [],
     "language": "python",
     "metadata": {},
     "outputs": [],
     "prompt_number": 0
    }
   ],
   "metadata": {}
  }
 ]
}