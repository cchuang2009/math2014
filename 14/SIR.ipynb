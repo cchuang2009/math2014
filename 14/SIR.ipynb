{
 "metadata": {
  "name": "",
  "signature": "sha256:8dbb28120bfdc5b29f51dbe5a607efe425d8bba5e6fc8e692ec80a54859889a6"
 },
 "nbformat": 3,
 "nbformat_minor": 0,
 "worksheets": [
  {
   "cells": [
    {
     "cell_type": "heading",
     "level": 1,
     "metadata": {},
     "source": [
      "SIR Model"
     ]
    },
    {
     "cell_type": "markdown",
     "metadata": {},
     "source": [
      "\n",
      "The example describes how, given a contagious illness, the population varies among the three groups of the indeividuals \n",
      "that are susceptible to the illness ($S$), infected by the illness ($I$) and recovered from the illness ($R$).\n",
      "\n",
      "Nonlinear Ordinary Differential Equations\n",
      "for \n",
      "$$ S\\overset{\\beta I}{\\longrightarrow}I\\overset{\\gamma}{\\longrightarrow}R$$\n",
      ":\n",
      "\n",
      "\\begin{eqnarray*}\n",
      "  \\frac {d S}{d t} &=& -\\beta S I\\\\\n",
      "   \\frac {d I}{d t} &=& \\beta S I -\\gamma I\\\\\n",
      "   \\frac {d R}{d t} &=& \\gamma I\n",
      "\\end{eqnarray*}"
     ]
    },
    {
     "cell_type": "code",
     "collapsed": false,
     "input": [
      "%matplotlib inline\n",
      "import numpy as np\n",
      "import matplotlib.pyplot as plt\n",
      "from numpy import log\n",
      "from scipy import integrate\n",
      "\n",
      "from IPython.html.widgets import interact, interactive, fixed\n",
      "from IPython.html import widgets\n",
      "#from matplotlib import rc\n",
      "#rc('font',**{'family':'sans-serif','sans-serif':['Helvetica']})\n",
      "## for Palatino and other serif fonts use:\n",
      "#rc('font',**{'family':'serif','serif':['Palatino']})\n",
      "#rc('text', usetex=True)"
     ],
     "language": "python",
     "metadata": {},
     "outputs": [],
     "prompt_number": 1
    },
    {
     "cell_type": "code",
     "collapsed": false,
     "input": [
      "S0=0.995;I0=.005;R0=0.\n",
      "beta=0.;gamma=1\n",
      "n=1000\n",
      "T=20\n",
      "dt=T/float(n)\n",
      "t=np.linspace(0,T,n+1)"
     ],
     "language": "python",
     "metadata": {},
     "outputs": [],
     "prompt_number": 2
    },
    {
     "cell_type": "code",
     "collapsed": false,
     "input": [
      "plt.xlim(0,20)\n",
      "plt.ylim(0,1.1)\n",
      "\n",
      "while beta <=2.: \n",
      "    S,I,R=np.zeros(len(t)),np.zeros(len(t)),np.zeros(len(t)) \n",
      "    S[0]=S0;I[0]=I0;R[0]=R0\n",
      "    for i in range(len(t)-1):\n",
      "        S[i+1] = S[i]-dt*beta*S[i]*I[i]\n",
      "        I[i+1] = I[i]+dt*(beta*S[i]*I[i]-gamma*I[i]) \n",
      "        R[i+1] = 1.-S[i+1]-I[i+1]\n",
      "    plt.plot(t,S,t,I,t,R) \n",
      "    beta+=0.5\n",
      "    "
     ],
     "language": "python",
     "metadata": {},
     "outputs": [
      {
       "metadata": {},
       "output_type": "display_data",
       "png": "[encoded data removed]",
       "text": [
        "<matplotlib.figure.Figure at 0x105e44e90>"
       ]
      }
     ],
     "prompt_number": 14
    },
    {
     "cell_type": "code",
     "collapsed": false,
     "input": [],
     "language": "python",
     "metadata": {},
     "outputs": [],
     "prompt_number": 16
    },
    {
     "cell_type": "code",
     "collapsed": false,
     "input": [
      "beta=2.\n",
      "def vis2(beta,gamma):\n",
      "    fig, ax = plt.subplots(figsize=(8,4),\n",
      "                           subplot_kw={'axisbg':'#EEEEEE',\n",
      "                                       'axisbelow':True})\n",
      "    S0=0.995;I0=.005;R0=0.\n",
      "    n=1000\n",
      "    T=40\n",
      "    dt=T/float(n)\n",
      "    t=np.linspace(0,T,n+1)\n",
      "    \n",
      "    ax.set_xlim(0,T)\n",
      "    ax.set_ylim(0,1.1)\n",
      "\n",
      "    S,I,R=np.zeros(len(t)),np.zeros(len(t)),np.zeros(len(t)) \n",
      "    S[0]=S0;I[0]=I0;R[0]=R0\n",
      "    for i in range(len(t)-1):\n",
      "        S[i+1] = S[i]-dt*beta*S[i]*I[i]\n",
      "        I[i+1] = I[i]+dt*(beta*S[i]*I[i]-gamma*I[i]) \n",
      "        R[i+1] = 1.-S[i+1]-I[i+1]\n",
      "    ax.plot(t,S)\n",
      "    ax.plot(t,I)\n",
      "    ax.plot(t,R)\n",
      "    ax.set_title(\"SIR model\")\n",
      "\n",
      "    ax.set_xlabel(\"Time (days)\")\n",
      "    ax.set_ylabel(\"Percent of Population\")\n",
      "    ax.legend(('S','I','R'))\n",
      "    ax.grid(True)\n",
      "    return fig"
     ],
     "language": "python",
     "metadata": {},
     "outputs": [],
     "prompt_number": 2
    },
    {
     "cell_type": "code",
     "collapsed": false,
     "input": [
      "i = interact(vis2,\n",
      "         beta=widgets.FloatSliderWidget(min=0.0, max=5.0, step=0.1, value=2.0, description=\"beta\"),\n",
      "         gamma=widgets.FloatSliderWidget(min=1.0, max=5, step=0.1, value=1.5, description=\"gamma\"),\n",
      "         )"
     ],
     "language": "python",
     "metadata": {},
     "outputs": [
      {
       "metadata": {},
       "output_type": "display_data",
       "png": "[encoded data removed]",
       "text": [
        "<matplotlib.figure.Figure at 0x10649dd10>"
       ]
      }
     ],
     "prompt_number": 4
    },
    {
     "cell_type": "code",
     "collapsed": false,
     "input": [],
     "language": "python",
     "metadata": {},
     "outputs": []
    },
    {
     "cell_type": "code",
     "collapsed": false,
     "input": [
      "beta=2.\n",
      "gamma=1.5\n",
      "S0=0.95\n",
      "I0=0.05\n",
      "R0=0.\n",
      "def vis2(beta,gamma,S0,I0):\n",
      "    fig, ax = plt.subplots(figsize=(8,4),\n",
      "                           subplot_kw={'axisbg':'#EEEEEE',\n",
      "                                       'axisbelow':True})\n",
      "    n=1000\n",
      "    T=40\n",
      "    R0=0.\n",
      "    I0=1-S0\n",
      "    dt=T/float(n)\n",
      "    \n",
      "    t=np.linspace(0,T,n+1)\n",
      "    R0=gamma/beta\n",
      "    ax.set_xlim(0,T)\n",
      "    ax.set_ylim(0,1.1)\n",
      "\n",
      "    S,I,R=np.zeros(len(t)),np.zeros(len(t)),np.zeros(len(t)) \n",
      "    S[0]=S0;I[0]=I0;R[0]=R0\n",
      "    for i in range(len(t)-1):\n",
      "        S[i+1] = S[i]-dt*beta*S[i]*I[i]\n",
      "        I[i+1] = I[i]+dt*(beta*S[i]*I[i]-gamma*I[i]) \n",
      "        R[i+1] = 1.-S[i+1]-I[i+1]\n",
      "    ax.plot(t,S)\n",
      "    ax.plot(t,I)\n",
      "    ax.plot(t,R)\n",
      "    ax.plot(t,R0*np.ones(len(t)),'r--')\n",
      "    ax.set_title('SIR model $R_0=$%f' %R0)\n",
      "\n",
      "    ax.set_xlabel(\"Time (days)\")\n",
      "    ax.set_ylabel(\"Percent of Population\")\n",
      "    ax.legend(('S','I','R'))\n",
      "    ax.grid(True)\n",
      "    return fig"
     ],
     "language": "python",
     "metadata": {},
     "outputs": [],
     "prompt_number": 26
    },
    {
     "cell_type": "code",
     "collapsed": false,
     "input": [
      "i = interact(vis2,\n",
      "         beta=widgets.FloatSliderWidget(min=0.0, max=5.0, step=0.1, value=2.0, description=\"beta\"),\n",
      "         gamma=widgets.FloatSliderWidget(min=1.0, max=2.0, step=0.1, value=1.5, description=\"gamma\"),\n",
      "         S0=widgets.FloatSliderWidget(min=0.3, max=1.0, step=0.01, value=0.95, description=\"S0\"),\n",
      "         I0=widgets.FloatSliderWidget(min=0., max=0.3, step=0.01, value=0.01, description=\"I0\"),\n",
      "         )"
     ],
     "language": "python",
     "metadata": {},
     "outputs": [
      {
       "metadata": {},
       "output_type": "display_data",
       "png": "[encoded data removed]",
       "text": [
        "<matplotlib.figure.Figure at 0x10a5badd0>"
       ]
      }
     ],
     "prompt_number": 27
    },
    {
     "cell_type": "heading",
     "level": 2,
     "metadata": {},
     "source": [
      "Basic Reproduction Ratio, $R_0$"
     ]
    },
    {
     "cell_type": "markdown",
     "metadata": {},
     "source": [
      "\n",
      "<ol>\n",
      "<li> $\\frac{d I}{d t}$ : rate of changes (growth velocity) of infectives. \n",
      "<li> The number of infectives grows as long as the proportion of susceptibles, $S(t)$, \n",
      "      in the population exceeds $\\frac{\\gamma}{\\beta}$, i.e. \n",
      "\n",
      "$$ \\frac{d I}{d t}=\\beta S I -\\gamma I\\ge(\\beta\\frac{\\gamma}{\\beta}-\\gamma)\\cdot I\\ge0$$\n",
      "</ol>"
     ]
    },
    {
     "cell_type": "markdown",
     "metadata": {},
     "source": [
      "###Defintion\n",
      "$R_0=\\frac{\\gamma}{\\beta}$ is called basic reproduction ratio, and\n",
      "\n",
      "* $R_0>1$: epidemic is out of control.\n",
      "* $R_0<1$: epidemic is under control."
     ]
    },
    {
     "cell_type": "markdown",
     "metadata": {},
     "source": [
      "Facts:\n",
      "    \n",
      "* $R_0$ = rate at which new cases are produced by an infectious individual (when population is completely\n",
      "      susceptible), multiplied by the average infectious period.  \n",
      "* Examples of $R_0$:\n",
      "  * 1.1-1.5 for FIV (Smith,2001);\n",
      "  * 3-4 for influenza (Murray, 1989);\n",
      "  * 10-12 for chickenpox;\n",
      "  * 16-18 for measles (Anderson and May, 1991, 1982)     "
     ]
    },
    {
     "cell_type": "heading",
     "level": 2,
     "metadata": {},
     "source": [
      "What relation between $S$ and $I$"
     ]
    },
    {
     "cell_type": "markdown",
     "metadata": {},
     "source": [
      "Theoretically, it's hard to solve from $S-I-R$ ODE's."
     ]
    },
    {
     "cell_type": "markdown",
     "metadata": {},
     "source": [
      "Fortunately, we can reduce the $S-I$ DE's into:\n",
      "$$ \\frac { d I}{d S}=\\frac{\\frac{d I}{d S}}{\\frac{d S}{d I}}=\\frac{\\beta I S-\\gamma I}{-\\beta I S}\n",
      "    =-1+\\frac{\\gamma}{\\beta S}$$\n",
      "And \n",
      "$$ I=\\int\\left(\\frac{\\gamma}{\\beta S} -1\\right) d S=\\frac{\\gamma}{\\beta} \\ln S -S+C$$\n",
      "Replcing the initial values, $S(0),I(0)$, gets the constant $C$:\n",
      "$$ C=I(0)-\\frac{\\gamma}{\\beta}\\ln(S(0))+S(0)$$"
     ]
    },
    {
     "cell_type": "code",
     "collapsed": false,
     "input": [],
     "language": "python",
     "metadata": {},
     "outputs": [],
     "prompt_number": 2
    },
    {
     "cell_type": "code",
     "collapsed": false,
     "input": [
      "beta=2.\n",
      "gamma=1.5\n",
      "S0=0.3\n",
      "I0=0.05\n",
      "R0=0.\n",
      "def SI3(beta,gamma):\n",
      "    fig, ax = plt.subplots(figsize=(8,4),\n",
      "                           subplot_kw={'axisbg':'#EEEEEE',\n",
      "                                       'axisbelow':True})\n",
      "    n=1000\n",
      "    St=np.linspace(S0,1,n+1)\n",
      "    \n",
      "    ax.set_xlim(0,1)\n",
      "    ax.set_ylim(0,1.1)\n",
      "    I=gamma*log(St)/beta-St+I0+S0-gamma*log(S0)/beta\n",
      "\n",
      "    ax.plot(St,I)\n",
      "    ax.set_title(\"S-I Relation\")\n",
      "\n",
      "    ax.set_xlabel(\"S\")\n",
      "    ax.set_ylabel(\"I\")\n",
      "\n",
      "    ax.grid(True)\n",
      "    return fig"
     ],
     "language": "python",
     "metadata": {},
     "outputs": [],
     "prompt_number": 11
    },
    {
     "cell_type": "code",
     "collapsed": false,
     "input": [
      "i = interact(SI3,\n",
      "         beta=widgets.FloatSliderWidget(min=0.0, max=10.0, step=0.1, value=2.0, description=\"beta\"),\n",
      "         gamma=widgets.FloatSliderWidget(min=1.0, max=10., step=0.1, value=1.5, description=\"gamma\"),\n",
      "         )"
     ],
     "language": "python",
     "metadata": {},
     "outputs": [
      {
       "metadata": {},
       "output_type": "display_data",
       "png": "[encoded data removed]",
       "text": [
        "<matplotlib.figure.Figure at 0x1060affd0>"
       ]
      }
     ],
     "prompt_number": 12
    },
    {
     "cell_type": "markdown",
     "metadata": {},
     "source": [
      "## Note\n",
      "\n",
      "###Facts:\n",
      "\n",
      "* $I=0\\to S,I,R$ are contstants: $I$ is an equivalent state, i.e. nothing will happen.\n",
      "* If case starts out at $I(0)>0$, $\\frac{ d S}{d t}<0$ implies $S$ being decreasing. \n",
      "* $ I=\\frac{\\gamma}{\\beta}\\ln S -S +C \\to -\\infty$ as $S\\to0$.\n",
      "\n",
      "###Conclusion\n",
      "\n",
      "* Epidemic will end as $I\\to 0$ while $S$ approaches some positive term.\n",
      "* While $I$ is at equilibium, $S(t)=S_T$ for some $t\\ge t_S$"
     ]
    },
    {
     "cell_type": "markdown",
     "metadata": {},
     "source": [
      "##Questions\n",
      "\n",
      "Observe the relation between $S$ and $I$ by making plots of $S-I$"
     ]
    },
    {
     "cell_type": "heading",
     "level": 2,
     "metadata": {},
     "source": [
      "Problem: How long is $t_S$?"
     ]
    },
    {
     "cell_type": "markdown",
     "metadata": {},
     "source": [
      "To get more precisely, i.e. when would it be in control, duration time for approaching $S(t)$ has to to be estimested. \n",
      "Replacing $I=I(S)$ above gets:\n",
      "\n",
      "\\begin{eqnarray}\n",
      " \\frac{d S}{d t} &= &-\\beta I S \\cr\n",
      "  &= &-\\gamma S \\ln S +\\beta S^2-\\beta C S \n",
      "\\end{eqnarray} \n",
      "This implies\n",
      "$$\\int^{S_T}_{S_0}\\frac{ d S }{-\\gamma S \\ln S +\\beta S^2-\\beta C S} =\\int^T_0 d t =T$$\n"
     ]
    },
    {
     "cell_type": "heading",
     "level": 2,
     "metadata": {},
     "source": [
      "Solution Processes"
     ]
    },
    {
     "cell_type": "markdown",
     "metadata": {},
     "source": [
      "1. It's true: epidemic will *explose* and then enventually be in under control.\n",
      "2. We don't expect to get $I=0$ from now on but are interested to know when $I$ come back to $I_0$."
     ]
    },
    {
     "cell_type": "markdown",
     "metadata": {},
     "source": [
      "As we note above, when to get $S=S_1$ while $I=I_0$ come again?"
     ]
    },
    {
     "cell_type": "markdown",
     "metadata": {},
     "source": [
      "## Answer\n",
      "This is the key point:\n",
      "\n",
      "\\begin{eqnarray}\n",
      "C&=&I(t)-\\frac{\\gamma}{\\beta}\\ln S(t)+S(t) \\\\\n",
      "  &=& I(0)-\\frac{\\gamma}{\\beta}\\ln(S(0))+S(0) \\\\\n",
      "  &=& I(0)-\\frac{\\gamma}{\\beta}\\ln S_1 +S_1\n",
      "\\end{eqnarray}\n",
      "\n",
      "Replacing the upper limit in the integral and get the time, $T$, when the epidemic will be under control:\n",
      "\\begin{eqnarray}\n",
      " T&=&\\int^T_0 d t \\\\\n",
      "  &=&\\int^{S_1}_{S_0}\\frac{ d S }{-\\gamma S \\ln S +\\beta S^2-\\beta C S}\n",
      "\\end{eqnarray}\n"
     ]
    },
    {
     "cell_type": "code",
     "collapsed": false,
     "input": [],
     "language": "python",
     "metadata": {},
     "outputs": [],
     "prompt_number": 13
    },
    {
     "cell_type": "code",
     "collapsed": false,
     "input": [
      "b=8.\n",
      "g=2.3\n",
      "S0=0.99\n",
      "I0=0.01\n",
      "R0=0.\n",
      "C0= I0-g/b*log(S0)+S0"
     ],
     "language": "python",
     "metadata": {},
     "outputs": [],
     "prompt_number": 5
    },
    {
     "cell_type": "code",
     "collapsed": false,
     "input": [
      "print C0"
     ],
     "language": "python",
     "metadata": {},
     "outputs": [
      {
       "output_type": "stream",
       "stream": "stdout",
       "text": [
        "1.00288947156\n"
       ]
      }
     ],
     "prompt_number": 6
    },
    {
     "cell_type": "code",
     "collapsed": false,
     "input": [
      "v=np.linspace(SS,S0,100)\n",
      "plt.ylim(-50,5)\n",
      "plt.plot(v,1/(b*v*v-b*C0*v-g*v*log(v)))"
     ],
     "language": "python",
     "metadata": {},
     "outputs": [
      {
       "metadata": {},
       "output_type": "pyout",
       "prompt_number": 12,
       "text": [
        "[<matplotlib.lines.Line2D at 0x10611e390>]"
       ]
      },
      {
       "metadata": {},
       "output_type": "display_data",
       "png": "[encoded data removed]",
       "text": [
        "<matplotlib.figure.Figure at 0x10611e2d0>"
       ]
      }
     ],
     "prompt_number": 12
    },
    {
     "cell_type": "code",
     "collapsed": false,
     "input": [
      "x2 = lambda v: 1/(b*v*v-b*C0*v-g*v*log(v))\n",
      "integrate.quad(x2,S0,SS)"
     ],
     "language": "python",
     "metadata": {},
     "outputs": [
      {
       "metadata": {},
       "output_type": "pyout",
       "prompt_number": 11,
       "text": [
        "(3.0758505917569066, 1.4204760932643643e-09)"
       ]
      }
     ],
     "prompt_number": 11
    },
    {
     "cell_type": "markdown",
     "metadata": {},
     "source": [
      "##Conclusion\n",
      "\n",
      "After $3.0758505917569066$ units of time, it  would be under control.\n"
     ]
    },
    {
     "cell_type": "markdown",
     "metadata": {},
     "source": [
      "## Computer Practice\n",
      "\n",
      "Make an interactive demo with input, $\\beta,\\gamma,R_0,I_0$, and $T$ output.\n"
     ]
    },
    {
     "cell_type": "code",
     "collapsed": false,
     "input": [],
     "language": "python",
     "metadata": {},
     "outputs": []
    },
    {
     "cell_type": "heading",
     "level": 1,
     "metadata": {},
     "source": [
      "Zombie Apocalypse"
     ]
    },
    {
     "cell_type": "heading",
     "level": 3,
     "metadata": {},
     "source": [
      "Philip Munz, Ioan Hudea, Joe Imad and Robert J. Smith 2009"
     ]
    },
    {
     "cell_type": "markdown",
     "metadata": {},
     "source": [
      "\\begin{eqnarray*}\n",
      "  \\frac {d S}{d t} &=& -\\beta S Z\\\\\n",
      "   \\frac {d Z}{d t} &=& (\\beta-\\alpha) S Z +\\zeta R\\\\\n",
      "   \\frac {d R}{d t} &=& \\alpha S Z -\\zeta R\\\n",
      "\\end{eqnarray*}\n",
      "\n",
      "* Encounters between zombies and live humans can result in the human becoming a zombie, $\\beta S Z$ ;\n",
      "* the zombie becoming dead, $\\alpha S Z$;\n",
      "* The dead sometimes spontaneously turn into zombies, $\\zeta R$."
     ]
    },
    {
     "cell_type": "code",
     "collapsed": false,
     "input": [
      "beta=1.\n",
      "alpha=4.\n",
      "zeta=0.2\n",
      "S0=.99\n",
      "Z0=0.01\n",
      "R0=0.0\n",
      "T=100.\n",
      "n=10000\n",
      "t=np.linspace(0,T,n+1)\n",
      "dt=t[1]-t[0]\n",
      "S,Z,R=np.zeros(len(t)),np.zeros(len(t)),np.zeros(len(t)) \n",
      "S[0]=S0;Z[0]=Z0;R[0]=R0\n",
      "for i in range(len(t)-1):\n",
      "    S[i+1] = S[i]-dt*beta*S[i]*Z[i]\n",
      "    Z[i+1] = Z[i]+dt*((beta-alpha)*S[i]*Z[i]+zeta*R[i]) \n",
      "    R[i+1] = 1.-S[i+1]-Z[i+1]\n",
      "plt.plot(t,S,t,Z,t,R)\n",
      "plt.legend(('S','Z','R'))\n",
      "print('S[100]','Z[100]','R[100]:',S[-1],Z[-1],R[-1])"
     ],
     "language": "python",
     "metadata": {},
     "outputs": [
      {
       "output_type": "stream",
       "stream": "stdout",
       "text": [
        "('S[100]', 'Z[100]', 'R[100]:', 5.1107327881136156e-11, 0.99341788079421345, 0.0065821191546792113)\n"
       ]
      },
      {
       "metadata": {},
       "output_type": "display_data",
       "png": "[encoded data removed]",
       "text": [
        "<matplotlib.figure.Figure at 0x1066ccc50>"
       ]
      }
     ],
     "prompt_number": 18
    },
    {
     "cell_type": "code",
     "collapsed": false,
     "input": [
      "t[:5]"
     ],
     "language": "python",
     "metadata": {},
     "outputs": [
      {
       "metadata": {},
       "output_type": "pyout",
       "prompt_number": 7,
       "text": [
        "array([ 0. ,  0.1,  0.2,  0.3,  0.4])"
       ]
      }
     ],
     "prompt_number": 7
    },
    {
     "cell_type": "code",
     "collapsed": false,
     "input": [],
     "language": "python",
     "metadata": {},
     "outputs": []
    }
   ],
   "metadata": {}
  }
 ]
}