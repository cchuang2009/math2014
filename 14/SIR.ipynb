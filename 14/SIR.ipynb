{
 "metadata": {
  "kernelspec": {
   "codemirror_mode": {
    "name": "python",
    "singleOperators": {},
    "version": 2
   },
   "display_name": "IPython (Python 2)",
   "language": "python",
   "name": "python2"
  },
  "name": "",
  "signature": "sha256:635a9cf88a16d643f6a5af89d1382b67e0631f03d0c32258ca8e3965c475c783"
 },
 "nbformat": 3,
 "nbformat_minor": 0,
 "worksheets": [
  {
   "cells": [
    {
     "cell_type": "heading",
     "level": 1,
     "metadata": {},
     "source": [
      "SIR Model"
     ]
    },
    {
     "cell_type": "markdown",
     "metadata": {},
     "source": [
      "\n",
      "The example describes how, given a contagious illness, the population varies among the three groups of the indeividuals \n",
      "that are susceptible to the illness ($S$), infected by the illness ($I$) and recovered from the illness ($R$).\n",
      "\n",
      "Nonlinear Ordinary Differential Equations\n",
      "for \n",
      "$$ S\\overset{\\beta I}{\\longrightarrow}I\\overset{\\gamma}{\\longrightarrow}R$$\n",
      ":\n",
      "\n",
      "\\begin{eqnarray*}\n",
      "  \\frac {d S}{d t} &=& -\\beta S I\\\\\n",
      "   \\frac {d I}{d t} &=& \\beta S I -\\gamma I\\\\\n",
      "   \\frac {d R}{d t} &=& \\gamma I\n",
      "\\end{eqnarray*}"
     ]
    },
    {
     "cell_type": "code",
     "collapsed": false,
     "input": [
      "%matplotlib inline\n",
      "import numpy as np\n",
      "import matplotlib.pyplot as plt\n",
      "from numpy import log\n",
      "from scipy import integrate\n",
      "import scipy.linalg as la\n",
      "import scipy.integrate as spi\n",
      "\n",
      "from IPython.html.widgets import interact, interactive, fixed\n",
      "from IPython.html import widgets\n",
      "#from matplotlib import rc\n",
      "#rc('font',**{'family':'sans-serif','sans-serif':['Helvetica']})\n",
      "## for Palatino and other serif fonts use:\n",
      "#rc('font',**{'family':'serif','serif':['Palatino']})\n",
      "#rc('text', usetex=True)"
     ],
     "language": "python",
     "metadata": {},
     "outputs": [],
     "prompt_number": 1
    },
    {
     "cell_type": "code",
     "collapsed": false,
     "input": [
      "S0=0.995;I0=.005;R0=0.\n",
      "beta=0.;gamma=0.35\n",
      "n=1000\n",
      "T=20\n",
      "dt=T/float(n)\n",
      "t=np.linspace(0,T,n+1)"
     ],
     "language": "python",
     "metadata": {},
     "outputs": [],
     "prompt_number": 38
    },
    {
     "cell_type": "code",
     "collapsed": false,
     "input": [
      "plt.xlim(0,20)\n",
      "plt.ylim(0,1.1)\n",
      "\n",
      "beta=0.75\n",
      "S,I,R=np.zeros(len(t)),np.zeros(len(t)),np.zeros(len(t)) \n",
      "S[0]=S0;I[0]=I0;R[0]=R0\n",
      "for i in range(len(t)-1):\n",
      "    S[i+1] = S[i]-dt*beta*S[i]*I[i]\n",
      "    I[i+1] = I[i]+dt*(beta*S[i]*I[i]-gamma*I[i]) \n",
      "    #R[i+1] = 1.-S[i+1]-I[i+1]\n",
      "R=1.-S-I\n",
      "plt.plot(t,S,t,I,t,R) \n",
      "plt.legend(['S','I','R'])\n",
      "plt.grid(True)\n",
      "plt.title(r'$\\beta=0.75,\\gamma=0.35$',size=20)\n",
      "    "
     ],
     "language": "python",
     "metadata": {},
     "outputs": [
      {
       "metadata": {},
       "output_type": "pyout",
       "prompt_number": 39,
       "text": [
        "<matplotlib.text.Text at 0x7fd54948b610>"
       ]
      },
      {
       "metadata": {},
       "output_type": "display_data",
       "png": "[encoded data removed]",
       "text": [
        "<matplotlib.figure.Figure at 0x7fd54958aed0>"
       ]
      }
     ],
     "prompt_number": 39
    },
    {
     "cell_type": "heading",
     "level": 3,
     "metadata": {},
     "source": [
      "Solve system of ODE's by Scipy"
     ]
    },
    {
     "cell_type": "markdown",
     "metadata": {},
     "source": [
      "##Procedures\n",
      "\n",
      "* define time partition, t_range, initials, INPUT:(S0,I0);\n",
      "* define Governed equation,diff_eqs;\n",
      "* solved by scipy.integrate.odeint(diff_eqs, INPUT, t_range)"
     ]
    },
    {
     "cell_type": "code",
     "collapsed": false,
     "input": [
      "plt.xlim(0,20)\n",
      "plt.ylim(0,1.1)\n",
      "\n",
      "beta=0.75\n",
      "S,I,R=np.zeros(len(t)),np.zeros(len(t)),np.zeros(len(t)) \n",
      "S[0]=S0;I[0]=I0;R[0]=R0\n",
      "for i in range(len(t)-1):\n",
      "    S[i+1] = S[i]-dt*beta*S[i]*I[i]\n",
      "    I[i+1] = I[i]+dt*(beta*S[i]*I[i]-gamma*I[i]) \n",
      "    #R[i+1] = 1.-S[i+1]-I[i+1]\n",
      "R=1.-S-I\n",
      "\n",
      "def diff_eqs(INP,t):  \n",
      "    '''The main set of equations'''\n",
      "    Y=np.zeros((2))\n",
      "    V = INP    \n",
      "    Y[0] = - beta * V[0] * V[1]\n",
      "    Y[1] = beta * V[0] * V[1] - gamma * V[1] \n",
      "    return Y   # For odeint\n",
      "\n",
      "\n",
      "\n",
      "t_start = 0.0; t_end = T; t_inc = dt\n",
      "t_range = np.arange(t_start, t_end+t_inc, t_inc)\n",
      "INPUT=(S0,I0)\n",
      "RES = spi.odeint(diff_eqs,INPUT,t_range)\n",
      "\n",
      "Rec=1. - (RES[:,0]+RES[:,1])\n",
      "\n",
      "\n",
      "plt.plot(t,RES[:,0],t,RES[:,1],t,Rec) \n",
      "plt.legend(['S','I','R'])\n",
      "plt.grid(True)\n",
      "plt.title(r'$\\beta=0.75,\\gamma=0.35$',size=20)\n",
      "    "
     ],
     "language": "python",
     "metadata": {},
     "outputs": [
      {
       "metadata": {},
       "output_type": "pyout",
       "prompt_number": 43,
       "text": [
        "<matplotlib.text.Text at 0x7fd549260990>"
       ]
      },
      {
       "metadata": {},
       "output_type": "display_data",
       "png": "[encoded data removed]",
       "text": [
        "<matplotlib.figure.Figure at 0x7fd5492d4250>"
       ]
      }
     ],
     "prompt_number": 43
    },
    {
     "cell_type": "code",
     "collapsed": false,
     "input": [],
     "language": "python",
     "metadata": {},
     "outputs": [],
     "prompt_number": 16
    },
    {
     "cell_type": "code",
     "collapsed": false,
     "input": [
      "beta=2.\n",
      "def vis2(beta,gamma):\n",
      "    fig, ax = plt.subplots(figsize=(8,4),\n",
      "                           subplot_kw={'axisbg':'#EEEEEE',\n",
      "                                       'axisbelow':True})\n",
      "    S0=0.995;I0=.005;R0=0.\n",
      "    n=1000\n",
      "    T=20\n",
      "    dt=T/float(n)\n",
      "    t=np.linspace(0,T,n+1)\n",
      "    \n",
      "    ax.set_xlim(0,T)\n",
      "    ax.set_ylim(0,1.1)\n",
      "\n",
      "    S,I,R=np.zeros(len(t)),np.zeros(len(t)),np.zeros(len(t)) \n",
      "    S[0]=S0;I[0]=I0;R[0]=R0\n",
      "    for i in range(len(t)-1):\n",
      "        S[i+1] = S[i]-dt*beta*S[i]*I[i]\n",
      "        I[i+1] = I[i]+dt*(beta*S[i]*I[i]-gamma*I[i]) \n",
      "        R[i+1] = 1.-S[i+1]-I[i+1]\n",
      "    ax.plot(t,S)\n",
      "    ax.plot(t,I)\n",
      "    ax.plot(t,R)\n",
      "    ax.set_title(\"SIR model\")\n",
      "\n",
      "    ax.set_xlabel(\"Time (days)\")\n",
      "    ax.set_ylabel(\"Percent of Population\")\n",
      "    ax.legend(('S','I','R'))\n",
      "    ax.grid(True)\n",
      "    return fig"
     ],
     "language": "python",
     "metadata": {},
     "outputs": [],
     "prompt_number": 18
    },
    {
     "cell_type": "code",
     "collapsed": false,
     "input": [
      "i = interact(vis2,\n",
      "         beta=widgets.FloatSliderWidget(min=0.0, max=5.0, step=0.1, value=2.0, description=\"beta\"),\n",
      "         gamma=widgets.FloatSliderWidget(min=1.0, max=5, step=0.1, value=1.5, description=\"gamma\"),\n",
      "         )"
     ],
     "language": "python",
     "metadata": {},
     "outputs": [
      {
       "metadata": {},
       "output_type": "display_data",
       "png": "[encoded data removed]",
       "text": [
        "<matplotlib.figure.Figure at 0x7fd549b5d450>"
       ]
      }
     ],
     "prompt_number": 19
    },
    {
     "cell_type": "code",
     "collapsed": false,
     "input": [],
     "language": "python",
     "metadata": {},
     "outputs": []
    },
    {
     "cell_type": "code",
     "collapsed": false,
     "input": [
      "beta=2.\n",
      "gamma=1.5\n",
      "S0=0.95\n",
      "I0=0.05\n",
      "R0=0.\n",
      "def vis2(beta,gamma,S0,I0):\n",
      "    fig, ax = plt.subplots(figsize=(8,4),\n",
      "                           subplot_kw={'axisbg':'#EEEEEE',\n",
      "                                       'axisbelow':True})\n",
      "    n=1000\n",
      "    T=40\n",
      "    R0=1-S0-I0\n",
      "    dt=T/float(n)\n",
      "    \n",
      "    t=np.linspace(0,T,n+1)\n",
      "    R0=gamma/beta\n",
      "    ax.set_xlim(0,T)\n",
      "    ax.set_ylim(0,1.1)\n",
      "\n",
      "    S,I,R=np.zeros(len(t)),np.zeros(len(t)),np.zeros(len(t)) \n",
      "    S[0]=S0;I[0]=I0;R[0]=R0\n",
      "    for i in range(len(t)-1):\n",
      "        S[i+1] = S[i]-dt*beta*S[i]*I[i]\n",
      "        I[i+1] = I[i]+dt*(beta*S[i]*I[i]-gamma*I[i]) \n",
      "        R[i+1] = 1.-S[i+1]-I[i+1]\n",
      "    ax.plot(t,S)\n",
      "    ax.plot(t,I)\n",
      "    ax.plot(t,R)\n",
      "    ax.set_title('SIR model $R_0=$%f' %R0)\n",
      "\n",
      "    ax.set_xlabel(\"Time (days)\")\n",
      "    ax.set_ylabel(\"Percent of Population\")\n",
      "    ax.legend(('S','I','R'))\n",
      "    ax.grid(True)\n",
      "    return fig"
     ],
     "language": "python",
     "metadata": {},
     "outputs": [],
     "prompt_number": 24
    },
    {
     "cell_type": "code",
     "collapsed": false,
     "input": [
      "i = interact(vis2,\n",
      "         beta=widgets.FloatSliderWidget(min=0.0, max=5.0, step=0.1, value=2.0, description=\"beta\"),\n",
      "         gamma=widgets.FloatSliderWidget(min=1.0, max=2.0, step=0.1, value=1.5, description=\"gamma\"),\n",
      "         S0=widgets.FloatSliderWidget(min=0.9, max=1.0, step=0.01, value=0.95, description=\"S0\"),\n",
      "         I0=widgets.FloatSliderWidget(min=0., max=0.1, step=0.01, value=0.01, description=\"I0\"),\n",
      "         )"
     ],
     "language": "python",
     "metadata": {},
     "outputs": [
      {
       "metadata": {},
       "output_type": "display_data",
       "png": "[encoded data removed]",
       "text": [
        "<matplotlib.figure.Figure at 0x107375fd0>"
       ]
      }
     ],
     "prompt_number": 25
    },
    {
     "cell_type": "code",
     "collapsed": false,
     "input": [],
     "language": "python",
     "metadata": {},
     "outputs": [],
     "prompt_number": 29
    },
    {
     "cell_type": "heading",
     "level": 2,
     "metadata": {},
     "source": [
      "Reproduction Ratio"
     ]
    },
    {
     "cell_type": "markdown",
     "metadata": {},
     "source": [
      "\n",
      "<ol>\n",
      "<li> $\\frac{d I}{d t}$ : rate of changes (growth velocity) of infectives. \n",
      "<li> The number of infectives grows as long as the proportion of susceptibles, $S(t)$, \n",
      "      in the population exceeds $\\frac{\\gamma}{\\beta}$, i.e. \n",
      "\n",
      "$$ \\frac{d I}{d t}=\\beta S I -\\gamma I\\ge(\\beta\\frac{\\gamma}{\\beta}-\\gamma)\\cdot I\\ge0$$\n",
      "</ol>"
     ]
    },
    {
     "cell_type": "markdown",
     "metadata": {},
     "source": [
      "###Defintion\n",
      "$R_0=\\frac{\\gamma}{\\beta}$ is called repoduction ratio, and\n",
      "\n",
      "* $R_0>1$: epidemic is out of control.\n",
      "* $R_0<1$: epidemic is under control."
     ]
    },
    {
     "cell_type": "heading",
     "level": 2,
     "metadata": {},
     "source": [
      "What relation between $S$ and $I$"
     ]
    },
    {
     "cell_type": "markdown",
     "metadata": {},
     "source": [
      "Theoretically, it's hard to solve from $S-I-R$ ODE's."
     ]
    },
    {
     "cell_type": "markdown",
     "metadata": {},
     "source": [
      "Fortunately, we can reduce the $S-I$ DE's into:\n",
      "$$ \\frac { d I}{d S}=\\frac{\\frac{d I}{d S}}{\\frac{d S}{d I}}=\\frac{\\beta I S-\\gamma I}{-\\beta I S}\n",
      "    =-1+\\frac{\\gamma}{\\beta S}$$\n",
      "And \n",
      "$$ I=\\int\\left(\\frac{\\gamma}{\\beta S} -1\\right) d S=\\frac{\\gamma}{\\beta} \\ln S -S+C$$\n",
      "Replcing the initial values, $S(0),I(0)$, gets the constant $C$:\n",
      "$$ C=I(0)-\\frac{\\gamma}{\\beta}\\ln(S(0))+S(0)$$"
     ]
    },
    {
     "cell_type": "code",
     "collapsed": false,
     "input": [],
     "language": "python",
     "metadata": {},
     "outputs": [],
     "prompt_number": 2
    },
    {
     "cell_type": "code",
     "collapsed": false,
     "input": [
      "beta=2.\n",
      "gamma=1.5\n",
      "S0=0.3\n",
      "I0=0.05\n",
      "R0=0.\n",
      "def SI3(beta,gamma):\n",
      "    fig, ax = plt.subplots(figsize=(8,4),\n",
      "                           subplot_kw={'axisbg':'#EEEEEE',\n",
      "                                       'axisbelow':True})\n",
      "    n=1000\n",
      "    St=np.linspace(S0,1,n+1)\n",
      "    \n",
      "    ax.set_xlim(0,1)\n",
      "    ax.set_ylim(0,1.1)\n",
      "    I=gamma*log(St)/beta-St+I0+S0-gamma*log(S0)/beta\n",
      "\n",
      "    ax.plot(St,I)\n",
      "    ax.set_title(\"S-I Relation\")\n",
      "\n",
      "    ax.set_xlabel(\"S\")\n",
      "    ax.set_ylabel(\"I\")\n",
      "\n",
      "    ax.grid(True)\n",
      "    return fig"
     ],
     "language": "python",
     "metadata": {},
     "outputs": [],
     "prompt_number": 11
    },
    {
     "cell_type": "code",
     "collapsed": false,
     "input": [
      "i = interact(SI3,\n",
      "         beta=widgets.FloatSliderWidget(min=0.0, max=10.0, step=0.1, value=2.0, description=\"beta\"),\n",
      "         gamma=widgets.FloatSliderWidget(min=1.0, max=10., step=0.1, value=1.5, description=\"gamma\"),\n",
      "         )"
     ],
     "language": "python",
     "metadata": {},
     "outputs": [
      {
       "metadata": {},
       "output_type": "display_data",
       "png": "[encoded data removed]",
       "text": [
        "<matplotlib.figure.Figure at 0x1060affd0>"
       ]
      }
     ],
     "prompt_number": 12
    },
    {
     "cell_type": "markdown",
     "metadata": {},
     "source": [
      "## Note\n",
      "\n",
      "###Facts:\n",
      "\n",
      "* $I=0\\to S,I,R$ are contstants: $I$ is an equivalent state, i.e. nothing will happen.\n",
      "* If case starts out at $I(0)>0$, $\\frac{ d S}{d t}<0$ implies $S$ being decreasing. \n",
      "* $ I=\\frac{\\gamma}{\\beta}\\ln S -S +C \\to -\\infty$ as $S\\to0$.\n",
      "\n",
      "###Conclusion\n",
      "\n",
      "* Epidemic will end as $I\\to 0$ while $S$ approaches some positive term.\n",
      "* While $I$ is at equilibium, $S(t)=S_T$ for some $t\\ge t_S$"
     ]
    },
    {
     "cell_type": "markdown",
     "metadata": {},
     "source": [
      "##Questions\n",
      "\n",
      "Observe the relation between $S$ and $I$ by making plots of $S-I$"
     ]
    },
    {
     "cell_type": "heading",
     "level": 2,
     "metadata": {},
     "source": [
      "Problem: How long is $t_S$?"
     ]
    },
    {
     "cell_type": "markdown",
     "metadata": {},
     "source": [
      "To get more precisely, i.e. when would it be in control, duration time for approaching $S(t)$ has to to be estimested. \n",
      "Replacing $I=I(S)$ above gets:\n",
      "\n",
      "\\begin{eqnarray}\n",
      " \\frac{d S}{d t} &= &-\\beta I S \\cr\n",
      "  &= &-\\gamma S \\ln S +\\beta S^2-\\beta C S \n",
      "\\end{eqnarray} \n",
      "This implies\n",
      "$$\\int^{S_T}_{S_0}\\frac{ d S }{-\\gamma S \\ln S +\\beta S^2-\\beta C S} =\\int^T_0 d t =T$$\n"
     ]
    },
    {
     "cell_type": "heading",
     "level": 2,
     "metadata": {},
     "source": [
      "Solution Processes"
     ]
    },
    {
     "cell_type": "markdown",
     "metadata": {},
     "source": [
      "1. It's true: epidemic will *explose* and then enventually be in under control.\n",
      "2. We don't expect to get $I=0$ from now on but are interested to know when $I$ come back to $I_0$."
     ]
    },
    {
     "cell_type": "markdown",
     "metadata": {},
     "source": [
      "As we note above, when to get $S=S_1$ while $I=I_0$ come again?"
     ]
    },
    {
     "cell_type": "markdown",
     "metadata": {},
     "source": [
      "## Answer\n",
      "This is the key point:\n",
      "\n",
      "\\begin{eqnarray}\n",
      "C&=&I(t)-\\frac{\\gamma}{\\beta}\\ln S(t)+S(t) \\\\\n",
      "  &=& I(0)-\\frac{\\gamma}{\\beta}\\ln(S(0))+S(0) \\\\\n",
      "  &=& I(0)-\\frac{\\gamma}{\\beta}\\ln S_1 +S_1\n",
      "\\end{eqnarray}\n",
      "\n",
      "Replacing the upper limit in the integral and get the time, $T$, when the epidemic will be under control:\n",
      "\\begin{eqnarray}\n",
      " T&=&\\int^T_0 d t \\\\\n",
      "  &=&\\int^{S_1}_{S_0}\\frac{ d S }{-\\gamma S \\ln S +\\beta S^2-\\beta C S}\\qquad(\\text{ where } S_1<S_0)\n",
      "\\end{eqnarray}\n"
     ]
    },
    {
     "cell_type": "code",
     "collapsed": false,
     "input": [],
     "language": "python",
     "metadata": {},
     "outputs": [],
     "prompt_number": 13
    },
    {
     "cell_type": "code",
     "collapsed": false,
     "input": [
      "b=8.\n",
      "g=2.3\n",
      "S0=0.99\n",
      "I0=0.01\n",
      "R0=0.\n",
      "C0= I0-g/b*log(S0)+S0"
     ],
     "language": "python",
     "metadata": {},
     "outputs": [],
     "prompt_number": 5
    },
    {
     "cell_type": "code",
     "collapsed": false,
     "input": [
      "print C0"
     ],
     "language": "python",
     "metadata": {},
     "outputs": [
      {
       "output_type": "stream",
       "stream": "stdout",
       "text": [
        "1.00288947156\n"
       ]
      }
     ],
     "prompt_number": 6
    },
    {
     "cell_type": "code",
     "collapsed": false,
     "input": [
      "v=np.linspace(SS,S0,100)\n",
      "plt.ylim(-50,5)\n",
      "plt.plot(v,1/(b*v*v-b*C0*v-g*v*log(v)))"
     ],
     "language": "python",
     "metadata": {},
     "outputs": [
      {
       "metadata": {},
       "output_type": "pyout",
       "prompt_number": 12,
       "text": [
        "[<matplotlib.lines.Line2D at 0x10611e390>]"
       ]
      },
      {
       "metadata": {},
       "output_type": "display_data",
       "png": "[encoded data removed]",
       "text": [
        "<matplotlib.figure.Figure at 0x10611e2d0>"
       ]
      }
     ],
     "prompt_number": 12
    },
    {
     "cell_type": "code",
     "collapsed": false,
     "input": [
      "x2 = lambda v: 1/(b*v*v-b*C0*v-g*v*log(v))\n",
      "integrate.quad(x2,S0,SS)"
     ],
     "language": "python",
     "metadata": {},
     "outputs": [
      {
       "metadata": {},
       "output_type": "pyout",
       "prompt_number": 11,
       "text": [
        "(3.0758505917569066, 1.4204760932643643e-09)"
       ]
      }
     ],
     "prompt_number": 11
    },
    {
     "cell_type": "markdown",
     "metadata": {},
     "source": [
      "##Conclusion\n",
      "\n",
      "After $3.0758505917569066$ units of time, it  would be under control.\n"
     ]
    },
    {
     "cell_type": "markdown",
     "metadata": {},
     "source": [
      "## Computer Practice\n",
      "\n",
      "Make an interactive demo with input, $\\beta,\\gamma,R_0,I_0$, and $T$ output.\n"
     ]
    },
    {
     "cell_type": "code",
     "collapsed": false,
     "input": [],
     "language": "python",
     "metadata": {},
     "outputs": []
    },
    {
     "cell_type": "heading",
     "level": 1,
     "metadata": {},
     "source": [
      "Zombie Apocalypse"
     ]
    },
    {
     "cell_type": "heading",
     "level": 3,
     "metadata": {},
     "source": [
      "Philip Munz, Ioan Hudea, Joe Imad and Robert J. Smith 2009"
     ]
    },
    {
     "cell_type": "markdown",
     "metadata": {},
     "source": [
      "\\begin{eqnarray*}\n",
      "  \\frac {d S}{d t} &=& -\\beta S Z\\\\\n",
      "   \\frac {d Z}{d t} &=& (\\beta-\\alpha) S Z +\\zeta R\\\\\n",
      "   \\frac {d R}{d t} &=& \\alpha S Z -\\zeta R\\\n",
      "\\end{eqnarray*}\n",
      "\n",
      "* Encounters between zombies and live humans can result in the human becoming a zombie, $\\beta S Z$ ;\n",
      "* the zombie becoming dead, $\\alpha S Z$;\n",
      "* The dead sometimes spontaneously turn into zombies, $\\zeta R$."
     ]
    },
    {
     "cell_type": "code",
     "collapsed": false,
     "input": [
      "beta=1.\n",
      "alpha=4.\n",
      "zeta=0.2\n",
      "S0=.99\n",
      "Z0=0.01\n",
      "R0=0.0\n",
      "T=100.\n",
      "n=10000\n",
      "t=np.linspace(0,T,n+1)\n",
      "dt=t[1]-t[0]\n",
      "S,Z,R=np.zeros(len(t)),np.zeros(len(t)),np.zeros(len(t)) \n",
      "S[0]=S0;Z[0]=Z0;R[0]=R0\n",
      "for i in range(len(t)-1):\n",
      "    S[i+1] = S[i]-dt*beta*S[i]*Z[i]\n",
      "    Z[i+1] = Z[i]+dt*((beta-alpha)*S[i]*Z[i]+zeta*R[i]) \n",
      "    R[i+1] = 1.-S[i+1]-Z[i+1]\n",
      "plt.plot(t,S,t,Z,t,R)\n",
      "plt.legend(('S','Z','R'))\n",
      "print('S[100]','Z[100]','R[100]:',S[-1],Z[-1],R[-1])"
     ],
     "language": "python",
     "metadata": {},
     "outputs": [
      {
       "output_type": "stream",
       "stream": "stdout",
       "text": [
        "('S[100]', 'Z[100]', 'R[100]:', 5.1107327881136156e-11, 0.99341788079421345, 0.0065821191546792113)\n"
       ]
      },
      {
       "metadata": {},
       "output_type": "display_data",
       "png": "[encoded data removed]",
       "text": [
        "<matplotlib.figure.Figure at 0x1066ccc50>"
       ]
      }
     ],
     "prompt_number": 18
    },
    {
     "cell_type": "code",
     "collapsed": false,
     "input": [
      "t[:5]"
     ],
     "language": "python",
     "metadata": {},
     "outputs": [
      {
       "metadata": {},
       "output_type": "pyout",
       "prompt_number": 7,
       "text": [
        "array([ 0. ,  0.1,  0.2,  0.3,  0.4])"
       ]
      }
     ],
     "prompt_number": 7
    },
    {
     "cell_type": "code",
     "collapsed": false,
     "input": [],
     "language": "python",
     "metadata": {},
     "outputs": []
    },
    {
     "cell_type": "heading",
     "level": 2,
     "metadata": {},
     "source": [
      "Ebola: SEIR Model\n"
     ]
    },
    {
     "cell_type": "markdown",
     "metadata": {},
     "source": [
      "## Ref:\n",
      "   \n",
      "* G.Chowell, N.W.Hengartner,C.Castillo-Chavez,P.W.Fenimore,J.M.Hyman, The basic reproductive number of Ebola and the effects of public health measures: the cases of Congo and Uganda,  Journal of Theoretical Biology, 2004\n",
      "* Anderson, R.M., May, R.M., 1991. Infectious Diseases of Humans. Oxford University Press, Oxford.\n",
      "* Brauer, F., Castillo-Chavez, C., 2000. Mathematical Models in Sartwell, P.E., 1966. The distribution of incubation periods and the PopulationBiologyandEpidemiology.Springer,NewYork.\n",
      "* Matt J. Keeling & Pejman Rohani,\n",
      "  <a href=\"http://wiki.deductivethinking.com\">Modeling Infectious Diseases in Humans and Animals</a>\n"
     ]
    },
    {
     "cell_type": "markdown",
     "metadata": {},
     "source": [
      "Susceptible individuals in class $S$ in contact with the\n",
      "virus enter the exposed class $E$ at the per-capita rate $\\beta I/N$; \n",
      "where $\\beta$ is transmission rate per person per day, \n",
      "$N$is the total effective population size,\n",
      "and $I/N$ is the probability that a contact is made with a infectious individual (i.e. uniform mixing is assumed). \n",
      "Exposed individuals undergo an average incubation period (assumed asymptomatic and uninfectious) \n",
      "of $1/k$ days before progressing to the infectious class $I$: Infectious individuals move to the $R$-class\n",
      "(death or recovered) at the per-capita rate $\\gamma$, as figure:\n",
      "\n",
      "<img src=\"images/SEIR2.png\">\n",
      "\n",
      "<img src=\"images/SEIR1.png\">"
     ]
    },
    {
     "cell_type": "heading",
     "level": 3,
     "metadata": {},
     "source": [
      "Simple SEIR Simulation ( with births and deaths)"
     ]
    },
    {
     "cell_type": "markdown",
     "metadata": {},
     "source": [
      "\\begin{eqnarray}\n",
      "\\frac{dS}{dt} &= \\mu-(\\beta I+\\mu) S \\\\\n",
      "\\frac{dE}{dt} &= \\beta S I-(\\mu+k) E \\\\\n",
      "\\frac{dI}{dt} &= k E-(\\mu+\\gamma) I \\\\\n",
      "\\frac{dR}{dt} &= \\gamma I-\\mu E \n",
      "\\end{eqnarray}"
     ]
    },
    {
     "cell_type": "code",
     "collapsed": false,
     "input": [
      "mu=1/(70*365.0)\n",
      "beta=520/365.0\n",
      "k=1/14.0\n",
      "gamma=1/7.0\n",
      "ND=10*365.0\n",
      "TS=1.0\n",
      "S0=0.1\n",
      "E0=1e-4\n",
      "I0=1e-4\n",
      "INPUT = (S0, E0, I0)\n",
      "\n",
      "def diff_eqs(INP,t):  \n",
      "\t'''The main set of equations'''\n",
      "\tY=np.zeros((3))\n",
      "\tV = INP    \n",
      "\tY[0] = mu - beta * V[0] * V[2] - mu * V[0]\n",
      "\tY[1] = beta * V[0] * V[2] - k * V[1] - mu * V[1]\n",
      "\tY[2] = k * V[1] - gamma * V[2] - mu * V[2]\n",
      "\treturn Y   # For odeint\n",
      "\n",
      "\n",
      "\n",
      "t_start = 0.0; t_end = ND; t_inc = TS\n",
      "t_range = np.arange(t_start, t_end+t_inc, t_inc)\n",
      "RES = spi.odeint(diff_eqs,INPUT,t_range)\n",
      "\n",
      "Rec=1. - (RES[:,0]+RES[:,1]+RES[:,2])\n",
      "#print RES\n",
      "\n",
      "#Ploting\n",
      "plt.subplot(311)\n",
      "plt.plot(RES[:,0], '-g', label='Susceptibles')\n",
      "plt.title('SEIR with Births and Deaths')\n",
      "plt.xlabel('Time')\n",
      "plt.ylabel('Susceptibles')\n",
      "plt.subplot(312)\n",
      "plt.plot(RES[:,1], '-m', label='Exposed')\n",
      "plt.plot(RES[:,2], '-r', label='Infectious')\n",
      "plt.legend(loc=0)\n",
      "plt.xlabel('Time')\n",
      "plt.ylabel('Infected')\n",
      "plt.subplot(313)\n",
      "plt.plot(Rec, '-k', label='Recovereds')\n",
      "plt.xlabel('Time')\n",
      "plt.ylabel('Recovereds')"
     ],
     "language": "python",
     "metadata": {},
     "outputs": [
      {
       "metadata": {},
       "output_type": "pyout",
       "prompt_number": 16,
       "text": [
        "<matplotlib.text.Text at 0x7fe883341b50>"
       ]
      },
      {
       "metadata": {},
       "output_type": "display_data",
       "png": "[encoded data removed]",
       "text": [
        "<matplotlib.figure.Figure at 0x7fe88362e450>"
       ]
      }
     ],
     "prompt_number": 16
    },
    {
     "cell_type": "code",
     "collapsed": false,
     "input": [
      "beta=520/365.\n",
      "gamma=1/7.0\n",
      "#mu=1/(70*365.0)\n",
      "mudays=70\n",
      "def vis3(mudays,beta,gamma):\n",
      "    #mu=1/(70*365.0)\n",
      "    #beta=520/365.0\n",
      "    k=1/14.0\n",
      "    #gamma=1/7.0\n",
      "    mu=1/float(mudays*365)\n",
      "    ND=10*365.0\n",
      "    TS=1.0\n",
      "    S0=0.1\n",
      "    E0=1e-4\n",
      "    I0=1e-4\n",
      "    INPUT = (S0, E0, I0)\n",
      "\n",
      "    def diff_eqs(INP,t):  \n",
      "        '''The main set of equations'''\n",
      "        Y=np.zeros((3))\n",
      "        V = INP    \n",
      "        Y[0] = mu - beta * V[0] * V[2] - mu * V[0]\n",
      "        Y[1] = beta * V[0] * V[2] - k * V[1] - mu * V[1]\n",
      "        Y[2] = k * V[1] - gamma * V[2] - mu * V[2]\n",
      "        return Y   # For odeint\n",
      "    \n",
      "    t_start = 0.0; t_end = ND; t_inc = TS\n",
      "    t_range = np.arange(t_start, t_end+t_inc, t_inc)\n",
      "    RES = spi.odeint(diff_eqs,INPUT,t_range)\n",
      "    Rec=1. - (RES[:,0]+RES[:,1]+RES[:,2])\n",
      "    \n",
      "    fig, ax = plt.subplots()\n",
      "    plt.subplot(311)\n",
      "    plt.plot(RES[:,0], '-g', label='Susceptibles')\n",
      "    plt.title('SEIR with Births and Deaths,mu=1/mudys/365')\n",
      "    plt.xlabel('Time')\n",
      "    plt.ylabel('Susceptibles')\n",
      "    plt.subplot(312)\n",
      "    plt.plot(RES[:,1], '-m', label='Exposed')\n",
      "    plt.plot(RES[:,2], '-r', label='Infectious')\n",
      "    plt.legend(loc=0)\n",
      "    plt.xlabel('Time')\n",
      "    plt.ylabel('Infected')\n",
      "    plt.subplot(313)\n",
      "    plt.plot(Rec, '-k', label='Recovereds')\n",
      "    plt.xlabel('Time')\n",
      "    plt.ylabel('Recovereds')\n",
      "    \n",
      "    return ax"
     ],
     "language": "python",
     "metadata": {},
     "outputs": [],
     "prompt_number": 15
    },
    {
     "cell_type": "code",
     "collapsed": false,
     "input": [
      "i = interact(vis3,\n",
      "         mudays  =widgets.FloatSliderWidget(min=1, max=365, step=1, value=70, description=\"mudays\"),    \n",
      "         beta=widgets.FloatSliderWidget(min=0.0, max=5.0, step=0.1, value=520/365., description=\"beta\"),\n",
      "         gamma=widgets.FloatSliderWidget(min=0.0, max=5, step=0.1, value=1/7., description=\"gamma\"),\n",
      "         )"
     ],
     "language": "python",
     "metadata": {},
     "outputs": [
      {
       "metadata": {},
       "output_type": "display_data",
       "png": "[encoded data removed]",
       "text": [
        "<matplotlib.figure.Figure at 0x7fd54a5da590>"
       ]
      }
     ],
     "prompt_number": 17
    },
    {
     "cell_type": "markdown",
     "metadata": {},
     "source": [
      "##Governed Differential Equations\n",
      "\n",
      "\\begin{eqnarray*}\n",
      "  \\frac {d S}{d t} &=& -\\frac{\\beta S I}{N}\\\\\n",
      "  \\frac {d E}{d t} &=&\\frac{\\beta S I}{N}- k E\\\\\n",
      "   \\frac {d I}{d t} &=& k E -\\gamma I\\\\\n",
      "   \\frac {d R}{d t} &=& \\gamma I \\\\\n",
      "   \\frac {d C}{d t} &=& k E\\\\\n",
      "\\end{eqnarray*}\n",
      "\n",
      "where $C(t)$ is not an epidemiological state but serves to keep track of the cumulative number of Ebola cases from the time of onset of symptoms.\n",
      "\n",
      "* $1/k$ Mean incubation period (days)\n",
      "* $1/\\gamma$ Mean infectious period (days)\n",
      "* $\\beta=\\frac{\\beta_0+\\beta_1}{2}$"
     ]
    },
    {
     "cell_type": "markdown",
     "metadata": {},
     "source": [
      "## Case for Congo 1995\n",
      "\n",
      "* N=564500\n",
      "* $\\beta_0=0.33,\\beta_1=0.09$\n",
      "* $1/k=5.3,1/\\gamma=5.61$"
     ]
    },
    {
     "cell_type": "code",
     "collapsed": false,
     "input": [],
     "language": "python",
     "metadata": {},
     "outputs": []
    },
    {
     "cell_type": "code",
     "collapsed": false,
     "input": [
      "N=64500.\n",
      "S0=0.9*N;E0=0.0;I0=N-S0-E0;R0=0.;C0=0.;\n",
      "beta0=0.33;beta1=0.09;\n",
      "beta=beta0;gamma=1/5.61\n",
      "\n",
      "k=1/5.3\n",
      "n=10000\n",
      "T=100\n",
      "dt=T/float(n)\n",
      "t=np.linspace(0,T,n+1)"
     ],
     "language": "python",
     "metadata": {},
     "outputs": [],
     "prompt_number": 2
    },
    {
     "cell_type": "code",
     "collapsed": false,
     "input": [
      "S,E,I,R=np.zeros(len(t)),np.zeros(len(t)),np.zeros(len(t)),np.zeros(len(t)) \n",
      "S[0]=S0;E[0]=E0;I[0]=I0;R[0]=R0\n",
      "for i in range(len(t)-1):\n",
      "    S[i+1] = S[i]-dt*beta*S[i]*I[i]/N\n",
      "    E[i+1] = E[i]+dt*(beta*S[i]*I[i]/N-k*E[i])\n",
      "    I[i+1] = I[i]+dt*(k*E[i]-gamma*I[i]) \n",
      "    R[i+1] = N-S[i+1]-I[i+1]-E[i+1]\n",
      "plt.plot(t,S/N,t,I/N,'r--',t,E/N,'y',t,R/N,'k-') \n",
      "#plt.ylim(0,1)\n",
      "plt.legend(['Suspective','Infected','Exposed','Recoverd'])"
     ],
     "language": "python",
     "metadata": {},
     "outputs": [
      {
       "metadata": {},
       "output_type": "pyout",
       "prompt_number": 3,
       "text": [
        "<matplotlib.legend.Legend at 0x106470190>"
       ]
      },
      {
       "metadata": {},
       "output_type": "display_data",
       "png": "[encoded data removed]",
       "text": [
        "<matplotlib.figure.Figure at 0x1064701d0>"
       ]
      }
     ],
     "prompt_number": 3
    },
    {
     "cell_type": "code",
     "collapsed": false,
     "input": [
      "beta/gamma"
     ],
     "language": "python",
     "metadata": {},
     "outputs": [
      {
       "metadata": {},
       "output_type": "pyout",
       "prompt_number": 26,
       "text": [
        "1.8513000000000002"
       ]
      }
     ],
     "prompt_number": 26
    },
    {
     "cell_type": "code",
     "collapsed": false,
     "input": [
      "J=np.matrix([[-k, beta],[k, -gamma]]);J"
     ],
     "language": "python",
     "metadata": {},
     "outputs": [
      {
       "metadata": {},
       "output_type": "pyout",
       "prompt_number": 27,
       "text": [
        "matrix([[-0.18867925,  0.33      ],\n",
        "        [ 0.18867925, -0.17825312]])"
       ]
      }
     ],
     "prompt_number": 27
    },
    {
     "cell_type": "code",
     "collapsed": false,
     "input": [
      "import scipy.linalg as la"
     ],
     "language": "python",
     "metadata": {},
     "outputs": [],
     "prompt_number": 9
    },
    {
     "cell_type": "code",
     "collapsed": false,
     "input": [
      "r=np.max(np.real(la.eigvals(J)));r"
     ],
     "language": "python",
     "metadata": {},
     "outputs": [
      {
       "metadata": {},
       "output_type": "pyout",
       "prompt_number": 29,
       "text": [
        "0.06611612264241562"
       ]
      }
     ],
     "prompt_number": 29
    },
    {
     "cell_type": "code",
     "collapsed": false,
     "input": [
      "#r=0.07\n",
      "1+(r*r+(k+gamma)*r)/k/gamma"
     ],
     "language": "python",
     "metadata": {},
     "outputs": [
      {
       "metadata": {},
       "output_type": "pyout",
       "prompt_number": 32,
       "text": [
        "1.9093917"
       ]
      }
     ],
     "prompt_number": 32
    },
    {
     "cell_type": "heading",
     "level": 3,
     "metadata": {},
     "source": [
      "Intervention Case"
     ]
    },
    {
     "cell_type": "markdown",
     "metadata": {},
     "source": [
      "After diease breakout, there ahould be some intervention strategies made to control the spread of Ebola.\n",
      "\n",
      "The transmission rate, $\\beta$, could be modeled reasonably as follows:\n",
      "\n",
      "$$\n",
      "\\beta ( t ) = \\left\\{\\begin{array}{l}\n",
      "     \\beta_{0},\\qquad\\qquad\\qquad\\qquad t \\leqslant t_{I}\\\\\n",
      "     \\beta_{1} + ( \\beta_{0} - \\beta_{1} ) e^{-q ( t-t_{I} )},  \\quad  t\n",
      "     \\geqslant t_{I}\n",
      "   \\end{array}\\right.\n",
      "$$\n",
      "i.e. decreases fom $\\beta_0$ to $\\beta_1$ at $t_I$, the time at which interventions start, and continus to be decreaing exponentially. "
     ]
    },
    {
     "cell_type": "heading",
     "level": 3,
     "metadata": {},
     "source": [
      "Control of Transition rate, $q$"
     ]
    },
    {
     "cell_type": "markdown",
     "metadata": {},
     "source": [
      " Another interpretation of the parameter q can be given in terms\n",
      " $$t_h=t_I+ln(2)/q$$\n",
      " where $t_h$ is the time at which $\\beta(t)=\\frac{\\beta_1+\\beta_0}{2}$"
     ]
    },
    {
     "cell_type": "code",
     "collapsed": false,
     "input": [
      "q=0.5\n",
      "tI=5\n",
      "th=tI+np.log(2)/q\n",
      "beta1+(beta0-beta1)*np.exp(-q*(th-tI))\n"
     ],
     "language": "python",
     "metadata": {},
     "outputs": [
      {
       "metadata": {},
       "output_type": "pyout",
       "prompt_number": 4,
       "text": [
        "0.20999999999999999"
       ]
      }
     ],
     "prompt_number": 4
    },
    {
     "cell_type": "code",
     "collapsed": false,
     "input": [
      "def bt(b0,b1,tI,q,T,n):\n",
      "    beta0=b0\n",
      "    beta1=b1\n",
      "    dt=T/float(n)\n",
      "    t=np.linspace(0,T,n+1)\n",
      "    bI=np.zeros(n+1)\n",
      "    nI=np.ceil(n*tI/T)\n",
      "    bI[:nI]=beta0*np.ones(nI)\n",
      "    bI[nI:]=beta1+(beta0-beta1)*np.exp(-q*(t[nI:]-tI))\n",
      "    return bI"
     ],
     "language": "python",
     "metadata": {},
     "outputs": [],
     "prompt_number": 5
    },
    {
     "cell_type": "code",
     "collapsed": false,
     "input": [
      "bI=bt(beta0,beta1,5,0.29,T,n)"
     ],
     "language": "python",
     "metadata": {},
     "outputs": [],
     "prompt_number": 9
    },
    {
     "cell_type": "code",
     "collapsed": false,
     "input": [
      "plt.xlim(0,100)\n",
      "plt.plot(t,bI,t,(beta0+beta1)/2.*np.ones(np.size(t)))"
     ],
     "language": "python",
     "metadata": {},
     "outputs": [
      {
       "metadata": {},
       "output_type": "pyout",
       "prompt_number": 10,
       "text": [
        "[<matplotlib.lines.Line2D at 0x106862650>,\n",
        " <matplotlib.lines.Line2D at 0x106ac2b10>]"
       ]
      },
      {
       "metadata": {},
       "output_type": "display_data",
       "png": "[encoded data removed]",
       "text": [
        "<matplotlib.figure.Figure at 0x1068625d0>"
       ]
      }
     ],
     "prompt_number": 10
    },
    {
     "cell_type": "code",
     "collapsed": true,
     "input": [
      "def BRN(b):\n",
      "    s=np.size(b)\n",
      "    R=np.zeros(s)\n",
      "    i=0\n",
      "    for i in np.arange(s):\n",
      "        J=np.matrix([[-k, b[i]],[k, -gamma]]);\n",
      "        r=np.max(np.real(la.eigvals(J)));\n",
      "        R[i]=1+(r*r+(k+gamma)*r)/k/gamma\n",
      "    return R"
     ],
     "language": "python",
     "metadata": {},
     "outputs": [],
     "prompt_number": 11
    },
    {
     "cell_type": "code",
     "collapsed": false,
     "input": [
      "R00=BRN(bI)"
     ],
     "language": "python",
     "metadata": {},
     "outputs": [],
     "prompt_number": 12
    },
    {
     "cell_type": "code",
     "collapsed": false,
     "input": [
      "plt.plot(t,R00)"
     ],
     "language": "python",
     "metadata": {},
     "outputs": [
      {
       "metadata": {},
       "output_type": "pyout",
       "prompt_number": 13,
       "text": [
        "[<matplotlib.lines.Line2D at 0x106d281d0>]"
       ]
      },
      {
       "metadata": {},
       "output_type": "display_data",
       "png": "[encoded data removed]",
       "text": [
        "<matplotlib.figure.Figure at 0x106af4bd0>"
       ]
      }
     ],
     "prompt_number": 13
    },
    {
     "cell_type": "code",
     "collapsed": false,
     "input": [
      "S,E,I,R=np.zeros(len(t)),np.zeros(len(t)),np.zeros(len(t)),np.zeros(len(t)) \n",
      "S[0]=S0;E[0]=E0;I[0]=I0;R[0]=R0\n",
      "for i in range(len(t)-1):\n",
      "    S[i+1] = S[i]-dt*beta*S[i]*I[i]/N\n",
      "    E[i+1] = E[i]+dt*(beta*S[i]*I[i]/N-k*E[i])\n",
      "    I[i+1] = I[i]+dt*(k*E[i]-gamma*I[i]) \n",
      "    R[i+1] = N-S[i+1]-I[i+1]-E[i+1]\n",
      "plt.plot(t,S/N,t,I/N,'r--',t,E/N,'y',t,R/N,'k-',t,R00) \n",
      "#plt.ylim(0,1)\n",
      "plt.legend(['Suspective','Infected','Exposed','Recoverd','$R_0$'])"
     ],
     "language": "python",
     "metadata": {},
     "outputs": [
      {
       "metadata": {},
       "output_type": "pyout",
       "prompt_number": 26,
       "text": [
        "<matplotlib.legend.Legend at 0x106a5da90>"
       ]
      },
      {
       "metadata": {},
       "output_type": "display_data",
       "png": "[encoded data removed]",
       "text": [
        "<matplotlib.figure.Figure at 0x106de9150>"
       ]
      }
     ],
     "prompt_number": 26
    },
    {
     "cell_type": "heading",
     "level": 2,
     "metadata": {},
     "source": [
      "Symboilc Solution dor ODE's "
     ]
    },
    {
     "cell_type": "markdown",
     "metadata": {},
     "source": [
      "Up to now, we only solve ODE's by numeric schemes (approximately); can we solve them theoretically? Just as well-know fact:\n",
      "   \n",
      "     Not all integrals can be integrated!\n",
      "\n",
      "Yes, \"Definite No\"!    \n",
      "\n",
      "But we still have chance to solve ODE's by \"sympy\"!"
     ]
    },
    {
     "cell_type": "markdown",
     "metadata": {},
     "source": [
      "Example (Exponential Growth)\n",
      "    \n",
      "The solution of $y'(t) = y(t), y(0) = y0$ is $y(t)=y0 \\exp(t)$"
     ]
    },
    {
     "cell_type": "code",
     "collapsed": false,
     "input": [
      "from sympy import Symbol , dsolve , Function , Derivative , Eq, lambdify, symbols"
     ],
     "language": "python",
     "metadata": {},
     "outputs": [],
     "prompt_number": 35
    },
    {
     "cell_type": "code",
     "collapsed": false,
     "input": [
      "x=Symbol('x')\n",
      "y0=Symbol('y0')\n",
      "y=Function('y')"
     ],
     "language": "python",
     "metadata": {},
     "outputs": [],
     "prompt_number": 20
    },
    {
     "cell_type": "code",
     "collapsed": false,
     "input": [
      "f_=Derivative(y(x),x)-y(x)"
     ],
     "language": "python",
     "metadata": {},
     "outputs": [],
     "prompt_number": 21
    },
    {
     "cell_type": "code",
     "collapsed": false,
     "input": [
      "sol=dsolve(Derivative(y(x),x)-y(x),y(x),ics={y(0):y0})"
     ],
     "language": "python",
     "metadata": {},
     "outputs": [],
     "prompt_number": 22
    },
    {
     "cell_type": "code",
     "collapsed": false,
     "input": [
      "print(sol)"
     ],
     "language": "python",
     "metadata": {},
     "outputs": [
      {
       "output_type": "stream",
       "stream": "stdout",
       "text": [
        "y(x) == C1*exp(x)\n"
       ]
      }
     ],
     "prompt_number": 23
    },
    {
     "cell_type": "code",
     "collapsed": false,
     "input": [
      "C1=Symbol('C1')"
     ],
     "language": "python",
     "metadata": {},
     "outputs": [],
     "prompt_number": 24
    },
    {
     "cell_type": "code",
     "collapsed": false,
     "input": [
      "ysol=sol.subs({C1:y0})"
     ],
     "language": "python",
     "metadata": {},
     "outputs": [],
     "prompt_number": 25
    },
    {
     "cell_type": "code",
     "collapsed": false,
     "input": [
      "print(ysol)"
     ],
     "language": "python",
     "metadata": {},
     "outputs": [
      {
       "output_type": "stream",
       "stream": "stdout",
       "text": [
        "y(x) == y0*exp(x)\n"
       ]
      }
     ],
     "prompt_number": 26
    },
    {
     "cell_type": "code",
     "collapsed": false,
     "input": [
      "z= lambdify(x,ysol.rhs)\n"
     ],
     "language": "python",
     "metadata": {},
     "outputs": [],
     "prompt_number": 32
    },
    {
     "cell_type": "code",
     "collapsed": false,
     "input": [
      "z= lambdify(x,y0*exp(x))"
     ],
     "language": "python",
     "metadata": {},
     "outputs": [],
     "prompt_number": 49
    },
    {
     "cell_type": "code",
     "collapsed": false,
     "input": [
      "z(1)"
     ],
     "language": "python",
     "metadata": {},
     "outputs": [
      {
       "metadata": {},
       "output_type": "pyout",
       "prompt_number": 33,
       "text": [
        "2.71828182845905*y0"
       ]
      }
     ],
     "prompt_number": 33
    },
    {
     "cell_type": "code",
     "collapsed": false,
     "input": [
      "A,N=symbols(\"A N\")\n",
      "g_=Derivative(y(x),x)-A*y(x)*(N-y(x))"
     ],
     "language": "python",
     "metadata": {},
     "outputs": [],
     "prompt_number": 36
    },
    {
     "cell_type": "code",
     "collapsed": false,
     "input": [
      "sol2=dsolve(g_,y(x))"
     ],
     "language": "python",
     "metadata": {},
     "outputs": [],
     "prompt_number": 37
    },
    {
     "cell_type": "code",
     "collapsed": false,
     "input": [
      "sol2"
     ],
     "language": "python",
     "metadata": {},
     "outputs": [
      {
       "metadata": {},
       "output_type": "pyout",
       "prompt_number": 38,
       "text": [
        "y(x) == N*exp(N*(A*x + C2))/(exp(N*(A*x + C1)) - 1)"
       ]
      }
     ],
     "prompt_number": 38
    },
    {
     "cell_type": "code",
     "collapsed": false,
     "input": [],
     "language": "python",
     "metadata": {},
     "outputs": []
    },
    {
     "cell_type": "code",
     "collapsed": false,
     "input": [],
     "language": "python",
     "metadata": {},
     "outputs": []
    }
   ],
   "metadata": {}
  }
 ]
}