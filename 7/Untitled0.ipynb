{
 "metadata": {
  "name": "",
  "signature": "sha256:9a8b31fdc97269152c15df1994ad6cf6a282dd51342f92ac812294f3084b5d93"
 },
 "nbformat": 3,
 "nbformat_minor": 0,
 "worksheets": [
  {
   "cells": [
    {
     "cell_type": "heading",
     "level": 1,
     "metadata": {},
     "source": [
      "Markov Chains"
     ]
    },
    {
     "cell_type": "markdown",
     "metadata": {},
     "source": [
      "##Overview\n",
      "\n",
      "Markov chains are one of the most fundamental classes of stochastic processes\n",
      "\n",
      "Attributes\n",
      "\n",
      "1. simple, flexible and supported by many elegant theoretical results\n",
      "2. valuable for building intuition about random dynamic models\n",
      "3. very useful in their own right\n",
      "\n",
      "Reference\n",
      "\n",
      "    1. Thomas J. Sargent and John Stachurski, http://quant-econ.net\n",
      "    2. Richard Weber, http://www.statslab.cam.ac.uk/~rrw1/markov\n",
      "    3. Eugenia Stoimenova, http://www.math.bas.bg/~jeni/\n",
      "    4. http://www.tcs.hut.fi/Studies\n",
      "    5. http://steep.inrialpes.fr/~Arnaud\n",
      "    6. http://www.philol.msu.ru/~lex/khmelev/published/llc/khmelev.html\n",
      "\n",
      "\n",
      "   \n",
      "<div align=\"center\"> Money Ball<br>\n",
      "<audio controls=\"\" src=\"audio/show.wav\">\n",
      "</audio></div>"
     ]
    },
    {
     "cell_type": "code",
     "collapsed": false,
     "input": [
      "import numpy as np\n",
      "import scipy as sp\n",
      "from numpy import cumsum\n",
      "from numpy.random import uniform\n",
      "from IPython.display import HTML"
     ],
     "language": "python",
     "metadata": {},
     "outputs": [],
     "prompt_number": 1
    },
    {
     "cell_type": "code",
     "collapsed": false,
     "input": [
      "def printP(P):\n",
      "    l='<div align=\"center\"><table>';\n",
      "    row=len(P[:,0])\n",
      "    i=j=k=0;\n",
      "    l=l+\"<tr><td>State</td>\"\n",
      "    for k in range(row):\n",
      "          k1=k+1\n",
      "          l=l+'<td><div align=\"center\">%s</div></td>' % (k1)\n",
      "          k++1  \n",
      "    for i in range(1,row+1):\n",
      "        l=l+'<tr><td><div align=\"center\">%s</div></td>' %i\n",
      "        for j in range(1,row+1):\n",
      "            l=l+\"<td> %1.4f </td>\" %P[i-1,j-1];\n",
      "            j++1\n",
      "        l=l+\"</tr>\"\n",
      "        i++1\n",
      "    l=l+\"</table></div>\"\n",
      "    return HTML(l)"
     ],
     "language": "python",
     "metadata": {},
     "outputs": [],
     "prompt_number": 53
    },
    {
     "cell_type": "code",
     "collapsed": false,
     "input": [
      "def printP2(P,states):\n",
      "    #if states:\n",
      "    #    states=np.arange(size(P[0,]))\n",
      "    l='<div align=\"center\"><table>';\n",
      "    row=len(P[:,0])\n",
      "    i=j=k=0;\n",
      "    l=l+\"<tr><td>State</td>\";\n",
      "    #for n in arange(size(states)):\n",
      "        \n",
      "    for k in range(row):\n",
      "          l=l+'<td><div align=\"center\">%s</div></td>' % (states[k])\n",
      "          k++1\n",
      "    l=l+'</tr>';        \n",
      "    for i in range(1,row+1):\n",
      "        l=l+'<tr><td><div align=\"center\">%s</div></td>' %states[i-1]\n",
      "        for j in range(1,row+1):\n",
      "            l=l+\"<td> %1.4f </td>\" %P[i-1,j-1];\n",
      "            j++1\n",
      "        l=l+\"</tr>\"\n",
      "        i++1\n",
      "    l=l+\"</table></div>\"\n",
      "    return HTML(l)"
     ],
     "language": "python",
     "metadata": {},
     "outputs": [
      {
       "ename": "SyntaxError",
       "evalue": "invalid syntax (<ipython-input-18-43e5dc75df53>, line 2)",
       "output_type": "pyerr",
       "traceback": [
        "\u001b[1;36m  File \u001b[1;32m\"<ipython-input-18-43e5dc75df53>\"\u001b[1;36m, line \u001b[1;32m2\u001b[0m\n\u001b[1;33m    if no states:\u001b[0m\n\u001b[1;37m               ^\u001b[0m\n\u001b[1;31mSyntaxError\u001b[0m\u001b[1;31m:\u001b[0m invalid syntax\n"
       ]
      }
     ],
     "prompt_number": 18
    },
    {
     "cell_type": "markdown",
     "metadata": {},
     "source": [
      "## Markov and Markov Chains\n",
      "\n",
      "Markov chains have been introduced by the Russian mathematician Andrei Andreyevich Markov in the early 1900s.\n",
      "\n"
     ]
    },
    {
     "cell_type": "markdown",
     "metadata": {},
     "source": [
      "## Introduction\n",
      "\n",
      "<div class=\"alert alert-success\" align=\"center\">\n",
      "    The system is `evolving` randomly in time\n",
      "</div>\n",
      "\n",
      "\n",
      "A system at time $t=0,1,2,\\cdots$\n",
      "The system can be in one state of a collection of possible states, e.g. **$S$={Happy,So-so,Blue}**\n",
      "The observation of the system is considered as an experience whose (random) result is the state\u2019s system, so called stochastic process.\n",
      "\n"
     ]
    },
    {
     "cell_type": "markdown",
     "metadata": {},
     "source": [
      "##Definition\n",
      "\n",
      "A stochastic matrix describes the dynamics of a Markov chain $\\{X_t\\}$ that takes values in the state space $S$.\n",
      "\n",
      "Formally, we say that a discrete time stochastic process $\\{X_t\\}$ taking values in S is a Markov chain with stochastic matrix $P$ (called **transtition matrix**) if \n",
      "$$   {\\cal P}\\{X_{t+1}=j|X_t=i\\}=P[i,j] $$\n",
      "\n",
      "for any $t\\ge0$ and $i,j\\in S$; here $\\cal P$ means probability.\n"
     ]
    },
    {
     "cell_type": "markdown",
     "metadata": {},
     "source": [
      "## examples :\n",
      "\n",
      "    \u2013 state of an engine (working, not working)\n",
      "    \u2013 weather (rain, cloud, snow, sun)\n",
      "    \u2013 robot\u2019s position on a grid\n",
      "<p>\n",
      "<div class=\"alert alert-success\" align=\"center\">\n",
      "    What kind of experience do you have about Markov property? \n",
      "</div>\n"
     ]
    },
    {
     "cell_type": "markdown",
     "metadata": {},
     "source": [
      "## Stochastic Matrices\n",
      "\n",
      "A stochastic matrix (or Markov matrix) is an n\u00d7n square matrix $P=P[i,j]$ such that\n",
      "\n",
      "each element $P[i,j]$ is nonnegative, and each row $P[i,\u22c5]$ sums to one\n",
      "\n",
      "Let $S:=0,\\cdots,n$\n",
      "\n",
      "Evidently, each row $P[i,\u22c5]$ can be regarded as a distribution (probability mass function) on $S$."
     ]
    },
    {
     "cell_type": "markdown",
     "metadata": {},
     "source": [
      "##Example (Drunkard walk)\n",
      "\n",
      "A random walk on the number line where, at each step, the position may change by +1 or \u22121 with equal probability. From any position there are two possible transitions, to the next or previous integer. The transition probabilities depend only on the current position, not on the manner in which the position was reached. For example, the transition probabilities from 5 to 4 and 5 to 6 are both 0.5, and all other transition probabilities from 5 are 0. These probabilities are independent of whether the system was previously in 4 or 6.\n",
      "\n",
      "Suppose the the drunk man will fall down valley if he go 10 steps straightly toward east. And his first step is toward east and never go west if he is back to the intial position.\n"
     ]
    },
    {
     "cell_type": "code",
     "collapsed": false,
     "input": [
      "P=np.zeros((11,11))\n",
      "P=np.matrix(P)\n",
      "P[0,1]=P[10,10]=1.\n",
      "for i in arange(1,10):\n",
      "    P[i,i-1]=P[i,i+1]=1/2."
     ],
     "language": "python",
     "metadata": {},
     "outputs": [],
     "prompt_number": 34
    },
    {
     "cell_type": "code",
     "collapsed": false,
     "input": [
      "P"
     ],
     "language": "python",
     "metadata": {},
     "outputs": [
      {
       "metadata": {},
       "output_type": "pyout",
       "prompt_number": 35,
       "text": [
        "matrix([[ 0. ,  1. ,  0. ,  0. ,  0. ,  0. ,  0. ,  0. ,  0. ,  0. ,  0. ],\n",
        "        [ 0.5,  0. ,  0.5,  0. ,  0. ,  0. ,  0. ,  0. ,  0. ,  0. ,  0. ],\n",
        "        [ 0. ,  0.5,  0. ,  0.5,  0. ,  0. ,  0. ,  0. ,  0. ,  0. ,  0. ],\n",
        "        [ 0. ,  0. ,  0.5,  0. ,  0.5,  0. ,  0. ,  0. ,  0. ,  0. ,  0. ],\n",
        "        [ 0. ,  0. ,  0. ,  0.5,  0. ,  0.5,  0. ,  0. ,  0. ,  0. ,  0. ],\n",
        "        [ 0. ,  0. ,  0. ,  0. ,  0.5,  0. ,  0.5,  0. ,  0. ,  0. ,  0. ],\n",
        "        [ 0. ,  0. ,  0. ,  0. ,  0. ,  0.5,  0. ,  0.5,  0. ,  0. ,  0. ],\n",
        "        [ 0. ,  0. ,  0. ,  0. ,  0. ,  0. ,  0.5,  0. ,  0.5,  0. ,  0. ],\n",
        "        [ 0. ,  0. ,  0. ,  0. ,  0. ,  0. ,  0. ,  0.5,  0. ,  0.5,  0. ],\n",
        "        [ 0. ,  0. ,  0. ,  0. ,  0. ,  0. ,  0. ,  0. ,  0.5,  0. ,  0.5],\n",
        "        [ 0. ,  0. ,  0. ,  0. ,  0. ,  0. ,  0. ,  0. ,  0. ,  0. ,  1. ]])"
       ]
      }
     ],
     "prompt_number": 35
    },
    {
     "cell_type": "code",
     "collapsed": false,
     "input": [
      "n=np.arange(size(P[0,]))\n",
      "printP2(P,n)"
     ],
     "language": "python",
     "metadata": {},
     "outputs": [
      {
       "html": [
        "<div align=\"center\"><table><tr><td>State</td><td><div align=\"center\">0</div></td><td><div align=\"center\">1</div></td><td><div align=\"center\">2</div></td><td><div align=\"center\">3</div></td><td><div align=\"center\">4</div></td><td><div align=\"center\">5</div></td><td><div align=\"center\">6</div></td><td><div align=\"center\">7</div></td><td><div align=\"center\">8</div></td><td><div align=\"center\">9</div></td><td><div align=\"center\">10</div></td></tr><tr><td><div align=\"center\">0</div></td><td> 0.0000 </td><td> 1.0000 </td><td> 0.0000 </td><td> 0.0000 </td><td> 0.0000 </td><td> 0.0000 </td><td> 0.0000 </td><td> 0.0000 </td><td> 0.0000 </td><td> 0.0000 </td><td> 0.0000 </td></tr><tr><td><div align=\"center\">1</div></td><td> 0.5000 </td><td> 0.0000 </td><td> 0.5000 </td><td> 0.0000 </td><td> 0.0000 </td><td> 0.0000 </td><td> 0.0000 </td><td> 0.0000 </td><td> 0.0000 </td><td> 0.0000 </td><td> 0.0000 </td></tr><tr><td><div align=\"center\">2</div></td><td> 0.0000 </td><td> 0.5000 </td><td> 0.0000 </td><td> 0.5000 </td><td> 0.0000 </td><td> 0.0000 </td><td> 0.0000 </td><td> 0.0000 </td><td> 0.0000 </td><td> 0.0000 </td><td> 0.0000 </td></tr><tr><td><div align=\"center\">3</div></td><td> 0.0000 </td><td> 0.0000 </td><td> 0.5000 </td><td> 0.0000 </td><td> 0.5000 </td><td> 0.0000 </td><td> 0.0000 </td><td> 0.0000 </td><td> 0.0000 </td><td> 0.0000 </td><td> 0.0000 </td></tr><tr><td><div align=\"center\">4</div></td><td> 0.0000 </td><td> 0.0000 </td><td> 0.0000 </td><td> 0.5000 </td><td> 0.0000 </td><td> 0.5000 </td><td> 0.0000 </td><td> 0.0000 </td><td> 0.0000 </td><td> 0.0000 </td><td> 0.0000 </td></tr><tr><td><div align=\"center\">5</div></td><td> 0.0000 </td><td> 0.0000 </td><td> 0.0000 </td><td> 0.0000 </td><td> 0.5000 </td><td> 0.0000 </td><td> 0.5000 </td><td> 0.0000 </td><td> 0.0000 </td><td> 0.0000 </td><td> 0.0000 </td></tr><tr><td><div align=\"center\">6</div></td><td> 0.0000 </td><td> 0.0000 </td><td> 0.0000 </td><td> 0.0000 </td><td> 0.0000 </td><td> 0.5000 </td><td> 0.0000 </td><td> 0.5000 </td><td> 0.0000 </td><td> 0.0000 </td><td> 0.0000 </td></tr><tr><td><div align=\"center\">7</div></td><td> 0.0000 </td><td> 0.0000 </td><td> 0.0000 </td><td> 0.0000 </td><td> 0.0000 </td><td> 0.0000 </td><td> 0.5000 </td><td> 0.0000 </td><td> 0.5000 </td><td> 0.0000 </td><td> 0.0000 </td></tr><tr><td><div align=\"center\">8</div></td><td> 0.0000 </td><td> 0.0000 </td><td> 0.0000 </td><td> 0.0000 </td><td> 0.0000 </td><td> 0.0000 </td><td> 0.0000 </td><td> 0.5000 </td><td> 0.0000 </td><td> 0.5000 </td><td> 0.0000 </td></tr><tr><td><div align=\"center\">9</div></td><td> 0.0000 </td><td> 0.0000 </td><td> 0.0000 </td><td> 0.0000 </td><td> 0.0000 </td><td> 0.0000 </td><td> 0.0000 </td><td> 0.0000 </td><td> 0.5000 </td><td> 0.0000 </td><td> 0.5000 </td></tr><tr><td><div align=\"center\">10</div></td><td> 0.0000 </td><td> 0.0000 </td><td> 0.0000 </td><td> 0.0000 </td><td> 0.0000 </td><td> 0.0000 </td><td> 0.0000 </td><td> 0.0000 </td><td> 0.0000 </td><td> 0.0000 </td><td> 1.0000 </td></tr></table></div>"
       ],
       "metadata": {},
       "output_type": "pyout",
       "prompt_number": 37,
       "text": [
        "<IPython.core.display.HTML at 0x7f7e754dca58>"
       ]
      }
     ],
     "prompt_number": 37
    },
    {
     "cell_type": "code",
     "collapsed": false,
     "input": [
      "printP2(P**10,n)"
     ],
     "language": "python",
     "metadata": {},
     "outputs": [
      {
       "html": [
        "<div align=\"center\"><table><tr><td>State</td><td><div align=\"center\">0</div></td><td><div align=\"center\">1</div></td><td><div align=\"center\">2</div></td><td><div align=\"center\">3</div></td><td><div align=\"center\">4</div></td><td><div align=\"center\">5</div></td><td><div align=\"center\">6</div></td><td><div align=\"center\">7</div></td><td><div align=\"center\">8</div></td><td><div align=\"center\">9</div></td><td><div align=\"center\">10</div></td></tr><tr><td><div align=\"center\">0</div></td><td> 0.2461 </td><td> 0.0000 </td><td> 0.4102 </td><td> 0.0000 </td><td> 0.2344 </td><td> 0.0000 </td><td> 0.0879 </td><td> 0.0000 </td><td> 0.0195 </td><td> 0.0000 </td><td> 0.0020 </td></tr><tr><td><div align=\"center\">1</div></td><td> 0.0000 </td><td> 0.4512 </td><td> 0.0000 </td><td> 0.3223 </td><td> 0.0000 </td><td> 0.1611 </td><td> 0.0000 </td><td> 0.0537 </td><td> 0.0000 </td><td> 0.0098 </td><td> 0.0020 </td></tr><tr><td><div align=\"center\">2</div></td><td> 0.2051 </td><td> 0.0000 </td><td> 0.3633 </td><td> 0.0000 </td><td> 0.2490 </td><td> 0.0000 </td><td> 0.1270 </td><td> 0.0000 </td><td> 0.0439 </td><td> 0.0000 </td><td> 0.0117 </td></tr><tr><td><div align=\"center\">3</div></td><td> 0.0000 </td><td> 0.3223 </td><td> 0.0000 </td><td> 0.2900 </td><td> 0.0000 </td><td> 0.2148 </td><td> 0.0000 </td><td> 0.1172 </td><td> 0.0000 </td><td> 0.0342 </td><td> 0.0215 </td></tr><tr><td><div align=\"center\">4</div></td><td> 0.1172 </td><td> 0.0000 </td><td> 0.2490 </td><td> 0.0000 </td><td> 0.2559 </td><td> 0.0000 </td><td> 0.2051 </td><td> 0.0000 </td><td> 0.1074 </td><td> 0.0000 </td><td> 0.0654 </td></tr><tr><td><div align=\"center\">5</div></td><td> 0.0000 </td><td> 0.1611 </td><td> 0.0000 </td><td> 0.2148 </td><td> 0.0000 </td><td> 0.2461 </td><td> 0.0000 </td><td> 0.1953 </td><td> 0.0000 </td><td> 0.0732 </td><td> 0.1094 </td></tr><tr><td><div align=\"center\">6</div></td><td> 0.0439 </td><td> 0.0000 </td><td> 0.1270 </td><td> 0.0000 </td><td> 0.2051 </td><td> 0.0000 </td><td> 0.2363 </td><td> 0.0000 </td><td> 0.1611 </td><td> 0.0000 </td><td> 0.2266 </td></tr><tr><td><div align=\"center\">7</div></td><td> 0.0000 </td><td> 0.0537 </td><td> 0.0000 </td><td> 0.1172 </td><td> 0.0000 </td><td> 0.1953 </td><td> 0.0000 </td><td> 0.2021 </td><td> 0.0000 </td><td> 0.0879 </td><td> 0.3438 </td></tr><tr><td><div align=\"center\">8</div></td><td> 0.0098 </td><td> 0.0000 </td><td> 0.0439 </td><td> 0.0000 </td><td> 0.1074 </td><td> 0.0000 </td><td> 0.1611 </td><td> 0.0000 </td><td> 0.1289 </td><td> 0.0000 </td><td> 0.5488 </td></tr><tr><td><div align=\"center\">9</div></td><td> 0.0000 </td><td> 0.0098 </td><td> 0.0000 </td><td> 0.0342 </td><td> 0.0000 </td><td> 0.0732 </td><td> 0.0000 </td><td> 0.0879 </td><td> 0.0000 </td><td> 0.0410 </td><td> 0.7539 </td></tr><tr><td><div align=\"center\">10</div></td><td> 0.0000 </td><td> 0.0000 </td><td> 0.0000 </td><td> 0.0000 </td><td> 0.0000 </td><td> 0.0000 </td><td> 0.0000 </td><td> 0.0000 </td><td> 0.0000 </td><td> 0.0000 </td><td> 1.0000 </td></tr></table></div>"
       ],
       "metadata": {},
       "output_type": "pyout",
       "prompt_number": 40,
       "text": [
        "<IPython.core.display.HTML at 0x7f7e754dc4e0>"
       ]
      }
     ],
     "prompt_number": 40
    },
    {
     "cell_type": "heading",
     "level": 2,
     "metadata": {},
     "source": [
      "printP2(P**11,n)"
     ]
    },
    {
     "cell_type": "markdown",
     "metadata": {},
     "source": [
      "## Discussions\n",
      "\n",
      "1. How do you explain the reason why the values at the $P[0,0]$ of the last results are so different with respect to anther? \n",
      "2. Is this model reasonable? Why?"
     ]
    },
    {
     "cell_type": "code",
     "collapsed": false,
     "input": [],
     "language": "python",
     "metadata": {},
     "outputs": []
    },
    {
     "cell_type": "code",
     "collapsed": false,
     "input": [
      "printP2(P**1000,n)"
     ],
     "language": "python",
     "metadata": {},
     "outputs": [
      {
       "html": [
        "<div align=\"center\"><table><tr><td>State</td><td><div align=\"center\">0</div></td><td><div align=\"center\">1</div></td><td><div align=\"center\">2</div></td><td><div align=\"center\">3</div></td><td><div align=\"center\">4</div></td><td><div align=\"center\">5</div></td><td><div align=\"center\">6</div></td><td><div align=\"center\">7</div></td><td><div align=\"center\">8</div></td><td><div align=\"center\">9</div></td><td><div align=\"center\">10</div></td></tr><tr><td><div align=\"center\">0</div></td><td> 0.0000 </td><td> 0.0000 </td><td> 0.0000 </td><td> 0.0000 </td><td> 0.0000 </td><td> 0.0000 </td><td> 0.0000 </td><td> 0.0000 </td><td> 0.0000 </td><td> 0.0000 </td><td> 1.0000 </td></tr><tr><td><div align=\"center\">1</div></td><td> 0.0000 </td><td> 0.0000 </td><td> 0.0000 </td><td> 0.0000 </td><td> 0.0000 </td><td> 0.0000 </td><td> 0.0000 </td><td> 0.0000 </td><td> 0.0000 </td><td> 0.0000 </td><td> 1.0000 </td></tr><tr><td><div align=\"center\">2</div></td><td> 0.0000 </td><td> 0.0000 </td><td> 0.0000 </td><td> 0.0000 </td><td> 0.0000 </td><td> 0.0000 </td><td> 0.0000 </td><td> 0.0000 </td><td> 0.0000 </td><td> 0.0000 </td><td> 1.0000 </td></tr><tr><td><div align=\"center\">3</div></td><td> 0.0000 </td><td> 0.0000 </td><td> 0.0000 </td><td> 0.0000 </td><td> 0.0000 </td><td> 0.0000 </td><td> 0.0000 </td><td> 0.0000 </td><td> 0.0000 </td><td> 0.0000 </td><td> 1.0000 </td></tr><tr><td><div align=\"center\">4</div></td><td> 0.0000 </td><td> 0.0000 </td><td> 0.0000 </td><td> 0.0000 </td><td> 0.0000 </td><td> 0.0000 </td><td> 0.0000 </td><td> 0.0000 </td><td> 0.0000 </td><td> 0.0000 </td><td> 1.0000 </td></tr><tr><td><div align=\"center\">5</div></td><td> 0.0000 </td><td> 0.0000 </td><td> 0.0000 </td><td> 0.0000 </td><td> 0.0000 </td><td> 0.0000 </td><td> 0.0000 </td><td> 0.0000 </td><td> 0.0000 </td><td> 0.0000 </td><td> 1.0000 </td></tr><tr><td><div align=\"center\">6</div></td><td> 0.0000 </td><td> 0.0000 </td><td> 0.0000 </td><td> 0.0000 </td><td> 0.0000 </td><td> 0.0000 </td><td> 0.0000 </td><td> 0.0000 </td><td> 0.0000 </td><td> 0.0000 </td><td> 1.0000 </td></tr><tr><td><div align=\"center\">7</div></td><td> 0.0000 </td><td> 0.0000 </td><td> 0.0000 </td><td> 0.0000 </td><td> 0.0000 </td><td> 0.0000 </td><td> 0.0000 </td><td> 0.0000 </td><td> 0.0000 </td><td> 0.0000 </td><td> 1.0000 </td></tr><tr><td><div align=\"center\">8</div></td><td> 0.0000 </td><td> 0.0000 </td><td> 0.0000 </td><td> 0.0000 </td><td> 0.0000 </td><td> 0.0000 </td><td> 0.0000 </td><td> 0.0000 </td><td> 0.0000 </td><td> 0.0000 </td><td> 1.0000 </td></tr><tr><td><div align=\"center\">9</div></td><td> 0.0000 </td><td> 0.0000 </td><td> 0.0000 </td><td> 0.0000 </td><td> 0.0000 </td><td> 0.0000 </td><td> 0.0000 </td><td> 0.0000 </td><td> 0.0000 </td><td> 0.0000 </td><td> 1.0000 </td></tr><tr><td><div align=\"center\">10</div></td><td> 0.0000 </td><td> 0.0000 </td><td> 0.0000 </td><td> 0.0000 </td><td> 0.0000 </td><td> 0.0000 </td><td> 0.0000 </td><td> 0.0000 </td><td> 0.0000 </td><td> 0.0000 </td><td> 1.0000 </td></tr></table></div>"
       ],
       "metadata": {},
       "output_type": "pyout",
       "prompt_number": 44,
       "text": [
        "<IPython.core.display.HTML at 0x7f7e75d59940>"
       ]
      }
     ],
     "prompt_number": 44
    },
    {
     "cell_type": "code",
     "collapsed": false,
     "input": [
      "printP2(P**1001,n)"
     ],
     "language": "python",
     "metadata": {},
     "outputs": [
      {
       "html": [
        "<div align=\"center\"><table><tr><td>State</td><td><div align=\"center\">0</div></td><td><div align=\"center\">1</div></td><td><div align=\"center\">2</div></td><td><div align=\"center\">3</div></td><td><div align=\"center\">4</div></td><td><div align=\"center\">5</div></td><td><div align=\"center\">6</div></td><td><div align=\"center\">7</div></td><td><div align=\"center\">8</div></td><td><div align=\"center\">9</div></td><td><div align=\"center\">10</div></td></tr><tr><td><div align=\"center\">0</div></td><td> 0.0000 </td><td> 0.0000 </td><td> 0.0000 </td><td> 0.0000 </td><td> 0.0000 </td><td> 0.0000 </td><td> 0.0000 </td><td> 0.0000 </td><td> 0.0000 </td><td> 0.0000 </td><td> 1.0000 </td></tr><tr><td><div align=\"center\">1</div></td><td> 0.0000 </td><td> 0.0000 </td><td> 0.0000 </td><td> 0.0000 </td><td> 0.0000 </td><td> 0.0000 </td><td> 0.0000 </td><td> 0.0000 </td><td> 0.0000 </td><td> 0.0000 </td><td> 1.0000 </td></tr><tr><td><div align=\"center\">2</div></td><td> 0.0000 </td><td> 0.0000 </td><td> 0.0000 </td><td> 0.0000 </td><td> 0.0000 </td><td> 0.0000 </td><td> 0.0000 </td><td> 0.0000 </td><td> 0.0000 </td><td> 0.0000 </td><td> 1.0000 </td></tr><tr><td><div align=\"center\">3</div></td><td> 0.0000 </td><td> 0.0000 </td><td> 0.0000 </td><td> 0.0000 </td><td> 0.0000 </td><td> 0.0000 </td><td> 0.0000 </td><td> 0.0000 </td><td> 0.0000 </td><td> 0.0000 </td><td> 1.0000 </td></tr><tr><td><div align=\"center\">4</div></td><td> 0.0000 </td><td> 0.0000 </td><td> 0.0000 </td><td> 0.0000 </td><td> 0.0000 </td><td> 0.0000 </td><td> 0.0000 </td><td> 0.0000 </td><td> 0.0000 </td><td> 0.0000 </td><td> 1.0000 </td></tr><tr><td><div align=\"center\">5</div></td><td> 0.0000 </td><td> 0.0000 </td><td> 0.0000 </td><td> 0.0000 </td><td> 0.0000 </td><td> 0.0000 </td><td> 0.0000 </td><td> 0.0000 </td><td> 0.0000 </td><td> 0.0000 </td><td> 1.0000 </td></tr><tr><td><div align=\"center\">6</div></td><td> 0.0000 </td><td> 0.0000 </td><td> 0.0000 </td><td> 0.0000 </td><td> 0.0000 </td><td> 0.0000 </td><td> 0.0000 </td><td> 0.0000 </td><td> 0.0000 </td><td> 0.0000 </td><td> 1.0000 </td></tr><tr><td><div align=\"center\">7</div></td><td> 0.0000 </td><td> 0.0000 </td><td> 0.0000 </td><td> 0.0000 </td><td> 0.0000 </td><td> 0.0000 </td><td> 0.0000 </td><td> 0.0000 </td><td> 0.0000 </td><td> 0.0000 </td><td> 1.0000 </td></tr><tr><td><div align=\"center\">8</div></td><td> 0.0000 </td><td> 0.0000 </td><td> 0.0000 </td><td> 0.0000 </td><td> 0.0000 </td><td> 0.0000 </td><td> 0.0000 </td><td> 0.0000 </td><td> 0.0000 </td><td> 0.0000 </td><td> 1.0000 </td></tr><tr><td><div align=\"center\">9</div></td><td> 0.0000 </td><td> 0.0000 </td><td> 0.0000 </td><td> 0.0000 </td><td> 0.0000 </td><td> 0.0000 </td><td> 0.0000 </td><td> 0.0000 </td><td> 0.0000 </td><td> 0.0000 </td><td> 1.0000 </td></tr><tr><td><div align=\"center\">10</div></td><td> 0.0000 </td><td> 0.0000 </td><td> 0.0000 </td><td> 0.0000 </td><td> 0.0000 </td><td> 0.0000 </td><td> 0.0000 </td><td> 0.0000 </td><td> 0.0000 </td><td> 0.0000 </td><td> 1.0000 </td></tr></table></div>"
       ],
       "metadata": {},
       "output_type": "pyout",
       "prompt_number": 47,
       "text": [
        "<IPython.core.display.HTML at 0x7f7e75d59c18>"
       ]
      }
     ],
     "prompt_number": 47
    },
    {
     "cell_type": "markdown",
     "metadata": {},
     "source": [
      "##Question:\n",
      "\n",
      "What's your conclusion about the last two results?"
     ]
    },
    {
     "cell_type": "markdown",
     "metadata": {},
     "source": [
      "## Note:\n",
      "Numpy provides two kinds of data type to store vector/matrix data, **array() and matrix()**. However, there are some differences between these types, especially the algebraic calculation."
     ]
    },
    {
     "cell_type": "code",
     "collapsed": false,
     "input": [
      "A=np.array([[1,-1],[1,-1]])\n",
      "B=np.matrix(A)\n",
      "A,B"
     ],
     "language": "python",
     "metadata": {},
     "outputs": [
      {
       "metadata": {},
       "output_type": "pyout",
       "prompt_number": 61,
       "text": [
        "(array([[ 1, -1],\n",
        "        [ 1, -1]]), matrix([[ 1, -1],\n",
        "         [ 1, -1]]))"
       ]
      }
     ],
     "prompt_number": 61
    },
    {
     "cell_type": "code",
     "collapsed": false,
     "input": [
      "printP(A*A)"
     ],
     "language": "python",
     "metadata": {},
     "outputs": [
      {
       "html": [
        "<div align=\"center\"><table><tr><td>State</td><td><div align=\"center\">1</div></td><td><div align=\"center\">2</div></td><tr><td><div align=\"center\">1</div></td><td> 1.0000 </td><td> -1.0000 </td></tr><tr><td><div align=\"center\">2</div></td><td> 1.0000 </td><td> -1.0000 </td></tr></table></div>"
       ],
       "metadata": {},
       "output_type": "pyout",
       "prompt_number": 59,
       "text": [
        "<IPython.core.display.HTML at 0x7f7e754f5c50>"
       ]
      }
     ],
     "prompt_number": 59
    },
    {
     "cell_type": "code",
     "collapsed": false,
     "input": [
      "printP(B*B)"
     ],
     "language": "python",
     "metadata": {},
     "outputs": [
      {
       "html": [
        "<div align=\"center\"><table><tr><td>State</td><td><div align=\"center\">1</div></td><td><div align=\"center\">2</div></td><tr><td><div align=\"center\">1</div></td><td> 0.0000 </td><td> 0.0000 </td></tr><tr><td><div align=\"center\">2</div></td><td> 0.0000 </td><td> 0.0000 </td></tr></table></div>"
       ],
       "metadata": {},
       "output_type": "pyout",
       "prompt_number": 62,
       "text": [
        "<IPython.core.display.HTML at 0x7f7e754870b8>"
       ]
      }
     ],
     "prompt_number": 62
    },
    {
     "cell_type": "code",
     "collapsed": false,
     "input": [],
     "language": "python",
     "metadata": {},
     "outputs": [],
     "prompt_number": 62
    },
    {
     "cell_type": "markdown",
     "metadata": {},
     "source": [
      "## Example (Lecture or others)\n",
      "\n",
      "Arnorld, a student in the class, would be in one of four states:\n",
      "\n",
      "    1. learning\n",
      "    2. watch his facebook,\n",
      "    3. write exercise or lab report,\n",
      "    4. dozing off.\n",
      "\n",
      "Every ten minutes, Arnold can change his activity or continue the current one. Suppose that the behavior of Arnold's changing state is a process without memory.\n",
      "\n",
      "    - When he dozes off, there is 9 chances over 10 that he will not wake up the next minute, otherwise 1 chance over 10 that he will wake up and listen what he had lost.\n",
      "    - When he wakes up, there is 1 chance over 3 that listens lecture, and 1 chance over 3 that logins his facebook, and 1 chance over 3 that will write lab report;\n",
      "    - when teacher ask to him shutdown his cell phone, there is 3 chances over 5 that he will fall in asleep, and 2 chances over 5 that he will write his lab report.\n",
      "    - when teacher stop his writing staff, there is 1 chances over 4 that he will attend the lecture listening, and 1 chances over 2 that he will doze off.\n",
      "\n"
     ]
    },
    {
     "cell_type": "markdown",
     "metadata": {},
     "source": [
      "# Example (continued)\n",
      "\n",
      "**State $S$**: 1 for listening, 2 for using cell phone, 3 for writing, and 4 for dozzling.\n",
      "\n",
      "**The first state**: 1\n",
      "\n",
      "**Question**: After ten minutes, in what state is Arnold we can predict? How about 20 minutes? and so on?\n"
     ]
    },
    {
     "cell_type": "markdown",
     "metadata": {},
     "source": [
      "##Answer (continued)\n",
      "\n",
      "After ten minutes,\n",
      "\n",
      "1. $1\\to1$ (still listening to the lecture): 1/3\n",
      "2. $1\\to2$: 1/3\n",
      "3. $1\\to3$: 1/3\n",
      "4. $1\\to4$: 0\n",
      "\n"
     ]
    },
    {
     "cell_type": "markdown",
     "metadata": {},
     "source": [
      "##Example (continued)\n",
      "\n",
      "From first time, the next state could be any state in $S$, and follows the probability distribution:\n",
      "$$\n",
      "1 \\to [1,2,3,4] \\to 1\\\\\n",
      "   P(X_2=1|X_0=1)=\\sum_{i\\in S}P(X_1=i|X_0=1)\\times P(X_2=1|X_1=i)\n",
      "$$\n",
      "\n",
      "Here above equations describes the case that Arnold still awake and keeps on listening."
     ]
    },
    {
     "cell_type": "markdown",
     "metadata": {},
     "source": [
      "##Question:\n",
      "\n",
      "1. Does this mean that the person always awakes at the first twenty minutes?\n",
      "2. How many changes does this person awake and listen to the lectecure during two hours?"
     ]
    },
    {
     "cell_type": "code",
     "collapsed": false,
     "input": [],
     "language": "python",
     "metadata": {},
     "outputs": []
    },
    {
     "cell_type": "markdown",
     "metadata": {},
     "source": [
      "<div class=\"alert alert-failed\"  align=\"center\">\n",
      "\n",
      "The case becomes more complicated while time elapses!\n",
      "\n",
      "</div>\n",
      "\n",
      "The probability transtion matrix would do much help!"
     ]
    },
    {
     "cell_type": "code",
     "collapsed": false,
     "input": [
      "P1=np.matrix([[1/3.,1/3.,1/3.,0],[0,0,2/5.,3/5.],[1/4.,1/4.,0,1/2.],[1/10.,0,0,9/10.]])"
     ],
     "language": "python",
     "metadata": {},
     "outputs": [],
     "prompt_number": 65
    },
    {
     "cell_type": "code",
     "collapsed": false,
     "input": [
      "printP(P1)"
     ],
     "language": "python",
     "metadata": {},
     "outputs": [
      {
       "html": [
        "<div align=\"center\"><table><tr><td>State</td><td><div align=\"center\">1</div></td><td><div align=\"center\">2</div></td><td><div align=\"center\">3</div></td><td><div align=\"center\">4</div></td><tr><td><div align=\"center\">1</div></td><td> 0.3333 </td><td> 0.3333 </td><td> 0.3333 </td><td> 0.0000 </td></tr><tr><td><div align=\"center\">2</div></td><td> 0.0000 </td><td> 0.0000 </td><td> 0.4000 </td><td> 0.6000 </td></tr><tr><td><div align=\"center\">3</div></td><td> 0.2500 </td><td> 0.2500 </td><td> 0.0000 </td><td> 0.5000 </td></tr><tr><td><div align=\"center\">4</div></td><td> 0.1000 </td><td> 0.0000 </td><td> 0.0000 </td><td> 0.9000 </td></tr></table></div>"
       ],
       "metadata": {},
       "output_type": "pyout",
       "prompt_number": 66,
       "text": [
        "<IPython.core.display.HTML at 0x7f7e75503470>"
       ]
      }
     ],
     "prompt_number": 66
    },
    {
     "cell_type": "code",
     "collapsed": false,
     "input": [
      "printP(P1*P1)"
     ],
     "language": "python",
     "metadata": {},
     "outputs": [
      {
       "html": [
        "<div align=\"center\"><table><tr><td>State</td><td><div align=\"center\">1</div></td><td><div align=\"center\">2</div></td><td><div align=\"center\">3</div></td><td><div align=\"center\">4</div></td><tr><td><div align=\"center\">1</div></td><td> 0.1944 </td><td> 0.1944 </td><td> 0.2444 </td><td> 0.3667 </td></tr><tr><td><div align=\"center\">2</div></td><td> 0.1600 </td><td> 0.1000 </td><td> 0.0000 </td><td> 0.7400 </td></tr><tr><td><div align=\"center\">3</div></td><td> 0.1333 </td><td> 0.0833 </td><td> 0.1833 </td><td> 0.6000 </td></tr><tr><td><div align=\"center\">4</div></td><td> 0.1233 </td><td> 0.0333 </td><td> 0.0333 </td><td> 0.8100 </td></tr></table></div>"
       ],
       "metadata": {},
       "output_type": "pyout",
       "prompt_number": 67,
       "text": [
        "<IPython.core.display.HTML at 0x7f7e75503c88>"
       ]
      }
     ],
     "prompt_number": 67
    },
    {
     "cell_type": "markdown",
     "metadata": {},
     "source": [
      "<div class=\"alert alert-success\" align=\"center\">\n",
      "Only about <code>2</code> chances over 10, he is still listening after 20 minutes.\n",
      "</div>"
     ]
    },
    {
     "cell_type": "code",
     "collapsed": false,
     "input": [
      "printP(P1**10)"
     ],
     "language": "python",
     "metadata": {},
     "outputs": [
      {
       "html": [
        "<div align=\"center\"><table><tr><td>State</td><td><div align=\"center\">1</div></td><td><div align=\"center\">2</div></td><td><div align=\"center\">3</div></td><td><div align=\"center\">4</div></td><tr><td><div align=\"center\">1</div></td><td> 0.1361 </td><td> 0.0632 </td><td> 0.0708 </td><td> 0.7300 </td></tr><tr><td><div align=\"center\">2</div></td><td> 0.1360 </td><td> 0.0630 </td><td> 0.0705 </td><td> 0.7305 </td></tr><tr><td><div align=\"center\">3</div></td><td> 0.1360 </td><td> 0.0630 </td><td> 0.0706 </td><td> 0.7303 </td></tr><tr><td><div align=\"center\">4</div></td><td> 0.1360 </td><td> 0.0629 </td><td> 0.0705 </td><td> 0.7306 </td></tr></table></div>"
       ],
       "metadata": {},
       "output_type": "pyout",
       "prompt_number": 69,
       "text": [
        "<IPython.core.display.HTML at 0x7f7e755035c0>"
       ]
      }
     ],
     "prompt_number": 69
    },
    {
     "cell_type": "code",
     "collapsed": false,
     "input": [
      "printP(P1**100)"
     ],
     "language": "python",
     "metadata": {},
     "outputs": [
      {
       "html": [
        "<div align=\"center\"><table><tr><td>State</td><td><div align=\"center\">1</div></td><td><div align=\"center\">2</div></td><td><div align=\"center\">3</div></td><td><div align=\"center\">4</div></td><tr><td><div align=\"center\">1</div></td><td> 0.1360 </td><td> 0.0630 </td><td> 0.0705 </td><td> 0.7305 </td></tr><tr><td><div align=\"center\">2</div></td><td> 0.1360 </td><td> 0.0630 </td><td> 0.0705 </td><td> 0.7305 </td></tr><tr><td><div align=\"center\">3</div></td><td> 0.1360 </td><td> 0.0630 </td><td> 0.0705 </td><td> 0.7305 </td></tr><tr><td><div align=\"center\">4</div></td><td> 0.1360 </td><td> 0.0630 </td><td> 0.0705 </td><td> 0.7305 </td></tr></table></div>"
       ],
       "metadata": {},
       "output_type": "pyout",
       "prompt_number": 70,
       "text": [
        "<IPython.core.display.HTML at 0x7f7e755039e8>"
       ]
      }
     ],
     "prompt_number": 70
    },
    {
     "cell_type": "markdown",
     "metadata": {},
     "source": [
      "<div class=\"alert alert\" align=\"center\">\n",
      "How about the last two computed results? \n",
      "</div>"
     ]
    },
    {
     "cell_type": "markdown",
     "metadata": {},
     "source": [
      "## Observation\n",
      "\n",
      "While at the $n$ step, the probability distribution is as follows:\n",
      "\n",
      "$$\\pi_n=(p_1,p_2,p_3,p_4)_{t=n}$$\n",
      "\n",
      "Then the probability distribution in the next step will be\n",
      "\n",
      "   1. state 1: $p_1*p_{11}+p_2*p_{21}+p_3*p_{31}+p_4*p_{41}\\sim p_1$\n",
      "   2. states $i=2,3,4$: $p_i*p_{i1}+p_2*p_{2i}+p_3*p_{3i}+p_4*p_{4i}\\sim p_i$\n",
      "\n",
      "This implies: $$ \\pi_{n+1}=\\pi_n\\times P\\sim \\pi_n$$ if time $n$ is large enough (eventually).\n"
     ]
    },
    {
     "cell_type": "markdown",
     "metadata": {},
     "source": [
      "## Tools\n",
      "\n",
      "NumPy/SciPy is the best choice for computing Linear Algebra and for computing transition matix!\n"
     ]
    },
    {
     "cell_type": "markdown",
     "metadata": {},
     "source": [
      "##Problem\n",
      "\n",
      "Suppose that the climate record is as follows (one-day transition):\n",
      "\n",
      "           cloud  sun rain  snow\n",
      "    cloud   0.6   0.2  0.2    0\n",
      "     sun    0.7   0.3    0    0\n",
      "    rain    0.55    0  0.4  0.05\n",
      "    snow    0       0  0.5  0.5\n",
      "\n",
      "What about the climate of tomorrow, and the day after tomorrow? Guess where the place locates.\n"
     ]
    },
    {
     "cell_type": "markdown",
     "metadata": {},
     "source": [
      "## Example\n",
      "\n",
      "Physicians who diagnose asymptomatic gallstones are faced with the decision to either immediately remove the gall bladder to prevent possible life-threatening complications or to postpone surgery until complications do occur. What is the long-term trend of each strategy?\n",
      "\n",
      "        A      C    R     W     D\n",
      "    A  0.95  0.04   0     0    0.01 \n",
      "    C   0      0   0.995  0    0.005\n",
      "    R   0      0   0.09  0.90  0.01 \n",
      "    W   0      0   0     0.99  0.01\n",
      "    D   0      0   0      0     1 \n",
      "\n",
      "Where the state is one of the follows:\n",
      "\n",
      "    A (1): Asymptomatic gallstone; postpone surgery from 4-month delay with 0.95 probability;\n",
      "    C (2): cholecystitis or biliary complications; will require surgery with 0.04 probability;\n",
      "    D (5): natual death state; with probability 0.01 due to age\n",
      "    R (3): Recovery state;\n",
      "    W (4): well state; 99% well recovery and 1% to death\n",
      "\n",
      "Ninety percent of the patients move onto the well state (W) while 9% stay in the recovery state each year and 1% die of natural causes. If the disease progresses and becomes symptomatic, then surgery is performed with a risk of death from complications due to surgery of 0.005.\n",
      "In [14]:\n",
      "\n"
     ]
    },
    {
     "cell_type": "code",
     "collapsed": false,
     "input": [
      "P2=np.matrix([[0.95,0.04,0,0,0.01],[0,0,0.995,0,0.005],[0,0,0.09,0.9,0.01],[0,0,0,0.99,0.01],\\\n",
      "              [0,0,0,0,1]])\n",
      "states=['A','C','R','W','D']\n",
      "printP2(P2,states)"
     ],
     "language": "python",
     "metadata": {},
     "outputs": [
      {
       "html": [
        "<div align=\"center\"><table><tr><td>State</td><td><div align=\"center\">A</div></td><td><div align=\"center\">C</div></td><td><div align=\"center\">R</div></td><td><div align=\"center\">W</div></td><td><div align=\"center\">D</div></td></tr><tr><td><div align=\"center\">A</div></td><td> 0.9500 </td><td> 0.0400 </td><td> 0.0000 </td><td> 0.0000 </td><td> 0.0100 </td></tr><tr><td><div align=\"center\">C</div></td><td> 0.0000 </td><td> 0.0000 </td><td> 0.9950 </td><td> 0.0000 </td><td> 0.0050 </td></tr><tr><td><div align=\"center\">R</div></td><td> 0.0000 </td><td> 0.0000 </td><td> 0.0900 </td><td> 0.9000 </td><td> 0.0100 </td></tr><tr><td><div align=\"center\">W</div></td><td> 0.0000 </td><td> 0.0000 </td><td> 0.0000 </td><td> 0.9900 </td><td> 0.0100 </td></tr><tr><td><div align=\"center\">D</div></td><td> 0.0000 </td><td> 0.0000 </td><td> 0.0000 </td><td> 0.0000 </td><td> 1.0000 </td></tr></table></div>"
       ],
       "metadata": {},
       "output_type": "pyout",
       "prompt_number": 73,
       "text": [
        "<IPython.core.display.HTML at 0x7f7e754dc0f0>"
       ]
      }
     ],
     "prompt_number": 73
    },
    {
     "cell_type": "code",
     "collapsed": false,
     "input": [
      "#np.set_printoptions(precision=3)\n",
      "#numpy.set_printoptions(formatter={'float': lambda x: str(x)})\n",
      "printP2(P2**3,states)"
     ],
     "language": "python",
     "metadata": {},
     "outputs": [
      {
       "html": [
        "<div align=\"center\"><table><tr><td>State</td><td><div align=\"center\">A</div></td><td><div align=\"center\">C</div></td><td><div align=\"center\">R</div></td><td><div align=\"center\">W</div></td><td><div align=\"center\">D</div></td></tr><tr><td><div align=\"center\">A</div></td><td> 0.8574 </td><td> 0.0361 </td><td> 0.0414 </td><td> 0.0358 </td><td> 0.0293 </td></tr><tr><td><div align=\"center\">C</div></td><td> 0.0000 </td><td> 0.0000 </td><td> 0.0081 </td><td> 0.9671 </td><td> 0.0248 </td></tr><tr><td><div align=\"center\">R</div></td><td> 0.0000 </td><td> 0.0000 </td><td> 0.0007 </td><td> 0.9696 </td><td> 0.0297 </td></tr><tr><td><div align=\"center\">W</div></td><td> 0.0000 </td><td> 0.0000 </td><td> 0.0000 </td><td> 0.9703 </td><td> 0.0297 </td></tr><tr><td><div align=\"center\">D</div></td><td> 0.0000 </td><td> 0.0000 </td><td> 0.0000 </td><td> 0.0000 </td><td> 1.0000 </td></tr></table></div>"
       ],
       "metadata": {},
       "output_type": "pyout",
       "prompt_number": 74,
       "text": [
        "<IPython.core.display.HTML at 0x7f7e754f5518>"
       ]
      }
     ],
     "prompt_number": 74
    },
    {
     "cell_type": "code",
     "collapsed": false,
     "input": [
      "printP2(P2**30,states)"
     ],
     "language": "python",
     "metadata": {},
     "outputs": [
      {
       "html": [
        "<div align=\"center\"><table><tr><td>State</td><td><div align=\"center\">A</div></td><td><div align=\"center\">C</div></td><td><div align=\"center\">R</div></td><td><div align=\"center\">W</div></td><td><div align=\"center\">D</div></td></tr><tr><td><div align=\"center\">A</div></td><td> 0.2146 </td><td> 0.0090 </td><td> 0.0105 </td><td> 0.5082 </td><td> 0.2577 </td></tr><tr><td><div align=\"center\">C</div></td><td> 0.0000 </td><td> 0.0000 </td><td> 0.0000 </td><td> 0.7434 </td><td> 0.2566 </td></tr><tr><td><div align=\"center\">R</div></td><td> 0.0000 </td><td> 0.0000 </td><td> 0.0000 </td><td> 0.7397 </td><td> 0.2603 </td></tr><tr><td><div align=\"center\">W</div></td><td> 0.0000 </td><td> 0.0000 </td><td> 0.0000 </td><td> 0.7397 </td><td> 0.2603 </td></tr><tr><td><div align=\"center\">D</div></td><td> 0.0000 </td><td> 0.0000 </td><td> 0.0000 </td><td> 0.0000 </td><td> 1.0000 </td></tr></table></div>"
       ],
       "metadata": {},
       "output_type": "pyout",
       "prompt_number": 76,
       "text": [
        "<IPython.core.display.HTML at 0x7f7e754f5208>"
       ]
      }
     ],
     "prompt_number": 76
    },
    {
     "cell_type": "code",
     "collapsed": false,
     "input": [],
     "language": "python",
     "metadata": {},
     "outputs": []
    },
    {
     "cell_type": "markdown",
     "metadata": {},
     "source": [
      "## Appendix\n",
      "\n",
      "**Definition**\n",
      "\n",
      "An $n\u00d7k$ matrix is a rectangular array $A$ of numbers with $n$ rows and $k$ columns:\n",
      "\n",
      "\\begin{split}A = \\left[ \\begin{array}{cccc} a_{11} & a_{12} & \\cdots & a_{1k} \\\\ a_{21} & a_{22} & \\cdots & a_{2k} \\\\ \\vdots & \\vdots & & \\vdots \\\\ a_{n1} & a_{n2} & \\cdots & a_{nk} \\end{array} \\right]\\end{split}\n",
      "\n",
      "$A$ is called sqrare matrix if $n=k$.\n",
      "\n",
      "**Definition**\n",
      "\n",
      "Let $A$ be an $n\u00d7n$ square matrix\n",
      "\n",
      "If $\\lambda$ is scalar and $v$ is a non-zero vector in $\\mathbb{R}^n$ such that $Av=\\lambda v$, then we say that $\\lambda$ is an eigenvalue of $A$, and $v$ is an eigenvector\n"
     ]
    },
    {
     "cell_type": "markdown",
     "metadata": {},
     "source": [
      "##Neumann's Theorem\n",
      "\n",
      "If $\u2225A^k\u2225\\lt 1$ for some $k\u2208\\mathbb{N}$, then $I\u2212A$ is invertible, and\n",
      "\n",
      "\\begin{split} (I - A)^{-1} = \\sum_{k=0}^{\\infty} A^k \\end{split} where \\begin{split} \\| A \\| := \\max_{\\| x \\| = 1} \\| A x \\| \\end{split}\n"
     ]
    },
    {
     "cell_type": "code",
     "collapsed": false,
     "input": [
      "A = np.matrix([[0.7,0.2,0.1],[0,0.5,0.5],[0.,0.9,0.1]])\n",
      "printP(A)"
     ],
     "language": "python",
     "metadata": {},
     "outputs": [
      {
       "ename": "NameError",
       "evalue": "name 'printP' is not defined",
       "output_type": "pyerr",
       "traceback": [
        "\u001b[1;31m---------------------------------------------------------------------------\u001b[0m\n\u001b[1;31mNameError\u001b[0m                                 Traceback (most recent call last)",
        "\u001b[1;32m<ipython-input-2-104220ffa51c>\u001b[0m in \u001b[0;36m<module>\u001b[1;34m()\u001b[0m\n\u001b[0;32m      1\u001b[0m \u001b[0mA\u001b[0m \u001b[1;33m=\u001b[0m \u001b[0mnp\u001b[0m\u001b[1;33m.\u001b[0m\u001b[0mmatrix\u001b[0m\u001b[1;33m(\u001b[0m\u001b[1;33m[\u001b[0m\u001b[1;33m[\u001b[0m\u001b[1;36m0.7\u001b[0m\u001b[1;33m,\u001b[0m\u001b[1;36m0.2\u001b[0m\u001b[1;33m,\u001b[0m\u001b[1;36m0.1\u001b[0m\u001b[1;33m]\u001b[0m\u001b[1;33m,\u001b[0m\u001b[1;33m[\u001b[0m\u001b[1;36m0\u001b[0m\u001b[1;33m,\u001b[0m\u001b[1;36m0.5\u001b[0m\u001b[1;33m,\u001b[0m\u001b[1;36m0.5\u001b[0m\u001b[1;33m]\u001b[0m\u001b[1;33m,\u001b[0m\u001b[1;33m[\u001b[0m\u001b[1;36m0.\u001b[0m\u001b[1;33m,\u001b[0m\u001b[1;36m0.9\u001b[0m\u001b[1;33m,\u001b[0m\u001b[1;36m0.1\u001b[0m\u001b[1;33m]\u001b[0m\u001b[1;33m]\u001b[0m\u001b[1;33m)\u001b[0m\u001b[1;33m\u001b[0m\u001b[0m\n\u001b[1;32m----> 2\u001b[1;33m \u001b[0mprintP\u001b[0m\u001b[1;33m(\u001b[0m\u001b[0mA\u001b[0m\u001b[1;33m)\u001b[0m\u001b[1;33m\u001b[0m\u001b[0m\n\u001b[0m",
        "\u001b[1;31mNameError\u001b[0m: name 'printP' is not defined"
       ]
      }
     ],
     "prompt_number": 2
    },
    {
     "cell_type": "code",
     "collapsed": false,
     "input": [
      "printP(A**1000)"
     ],
     "language": "python",
     "metadata": {},
     "outputs": [
      {
       "html": [
        "<div align=\"center\"><table><tr><td>State</td><td><div align=\"center\">1</div></td><td><div align=\"center\">2</div></td><td><div align=\"center\">3</div></td><tr><td><div align=\"center\">1</div></td><td> 0.0000 </td><td> 0.6429 </td><td> 0.3571 </td></tr><tr><td><div align=\"center\">2</div></td><td> 0.0000 </td><td> 0.6429 </td><td> 0.3571 </td></tr><tr><td><div align=\"center\">3</div></td><td> 0.0000 </td><td> 0.6429 </td><td> 0.3571 </td></tr></table></div>"
       ],
       "metadata": {},
       "output_type": "pyout",
       "prompt_number": 78,
       "text": [
        "<IPython.core.display.HTML at 0x7f7e754f55c0>"
       ]
      }
     ],
     "prompt_number": 78
    },
    {
     "cell_type": "code",
     "collapsed": false,
     "input": [
      "from scipy.linalg import eig\n",
      "evals, evecs =eig(A,left=True,right=False)\n",
      "\n",
      "evals"
     ],
     "language": "python",
     "metadata": {},
     "outputs": [
      {
       "metadata": {},
       "output_type": "pyout",
       "prompt_number": 4,
       "text": [
        "array([ 0.7+0.j,  1.0+0.j, -0.4+0.j])"
       ]
      }
     ],
     "prompt_number": 4
    },
    {
     "cell_type": "code",
     "collapsed": false,
     "input": [
      "ev0=evecs[:,1]"
     ],
     "language": "python",
     "metadata": {},
     "outputs": [],
     "prompt_number": 5
    },
    {
     "cell_type": "code",
     "collapsed": false,
     "input": [
      "ev0=ev0/sum(ev0);ev0"
     ],
     "language": "python",
     "metadata": {},
     "outputs": [
      {
       "metadata": {},
       "output_type": "pyout",
       "prompt_number": 6,
       "text": [
        "array([ 0.        ,  0.64285714,  0.35714286])"
       ]
      }
     ],
     "prompt_number": 6
    },
    {
     "cell_type": "code",
     "collapsed": false,
     "input": [
      "B=np.matrix([[0.4,0.6],[0.2,0.8]])"
     ],
     "language": "python",
     "metadata": {},
     "outputs": [],
     "prompt_number": 7
    },
    {
     "cell_type": "code",
     "collapsed": false,
     "input": [
      "evals, evecs = eig(B,left=True,right=False)\n",
      "\n",
      "evals"
     ],
     "language": "python",
     "metadata": {},
     "outputs": [
      {
       "metadata": {},
       "output_type": "pyout",
       "prompt_number": 8,
       "text": [
        "array([ 0.2+0.j,  1.0+0.j])"
       ]
      }
     ],
     "prompt_number": 8
    },
    {
     "cell_type": "code",
     "collapsed": false,
     "input": [
      "ev1=evecs[:,1]"
     ],
     "language": "python",
     "metadata": {},
     "outputs": [],
     "prompt_number": 9
    },
    {
     "cell_type": "code",
     "collapsed": false,
     "input": [
      "ev1=ev1/sum(ev1)\n",
      "ev1"
     ],
     "language": "python",
     "metadata": {},
     "outputs": [
      {
       "metadata": {},
       "output_type": "pyout",
       "prompt_number": 10,
       "text": [
        "array([ 0.25,  0.75])"
       ]
      }
     ],
     "prompt_number": 10
    },
    {
     "cell_type": "code",
     "collapsed": false,
     "input": [
      "np.dot(ev1,B)"
     ],
     "language": "python",
     "metadata": {},
     "outputs": [
      {
       "metadata": {},
       "output_type": "pyout",
       "prompt_number": 11,
       "text": [
        "matrix([[ 0.25,  0.75]])"
       ]
      }
     ],
     "prompt_number": 11
    },
    {
     "cell_type": "code",
     "collapsed": false,
     "input": [
      "ev1*B"
     ],
     "language": "python",
     "metadata": {},
     "outputs": [
      {
       "metadata": {},
       "output_type": "pyout",
       "prompt_number": 12,
       "text": [
        "matrix([[ 0.25,  0.75]])"
       ]
      }
     ],
     "prompt_number": 12
    },
    {
     "cell_type": "markdown",
     "metadata": {},
     "source": []
    }
   ],
   "metadata": {}
  }
 ]
}